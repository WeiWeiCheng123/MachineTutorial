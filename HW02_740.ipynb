{
  "nbformat": 4,
  "nbformat_minor": 0,
  "metadata": {
    "accelerator": "GPU",
    "colab": {
      "name": "HW02_0927(1).ipynb",
      "provenance": [],
      "collapsed_sections": []
    },
    "kernelspec": {
      "display_name": "Python 3",
      "name": "python3"
    }
  },
  "cells": [
    {
      "cell_type": "markdown",
      "metadata": {
        "id": "OYlaRwNu7ojq"
      },
      "source": [
        "# **Homework 2-1 Phoneme Classification**\n",
        "\n",
        "* Slides: https://speech.ee.ntu.edu.tw/~hylee/ml/ml2021-course-data/hw/HW02/HW02.pdf\n",
        "* Video (Chinese): https://youtu.be/PdjXnQbu2zo\n",
        "* Video (English): https://youtu.be/ESRr-VCykBs\n"
      ]
    },
    {
      "cell_type": "markdown",
      "metadata": {
        "id": "emUd7uS7crTz"
      },
      "source": [
        "## The DARPA TIMIT Acoustic-Phonetic Continuous Speech Corpus (TIMIT)\n",
        "The TIMIT corpus of reading speech has been designed to provide speech data for the acquisition of acoustic-phonetic knowledge and for the development and evaluation of automatic speech recognition systems.\n",
        "\n",
        "This homework is a multiclass classification task, \n",
        "we are going to train a deep neural network classifier to predict the phonemes for each frame from the speech corpus TIMIT.\n",
        "\n",
        "link: https://academictorrents.com/details/34e2b78745138186976cbc27939b1b34d18bd5b3"
      ]
    },
    {
      "cell_type": "markdown",
      "metadata": {
        "id": "KVUGfWTo7_Oj"
      },
      "source": [
        "## Download Data\n",
        "Download data from google drive, then unzip it.\n",
        "\n",
        "You should have `timit_11/train_11.npy`, `timit_11/train_label_11.npy`, and `timit_11/test_11.npy` after running this block.<br><br>\n",
        "`timit_11/`\n",
        "- `train_11.npy`: training data<br>\n",
        "- `train_label_11.npy`: training label<br>\n",
        "- `test_11.npy`:  testing data<br><br>\n",
        "\n",
        "**notes: if the google drive link is dead, you can download the data directly from Kaggle and upload it to the workspace**\n",
        "\n",
        "\n"
      ]
    },
    {
      "cell_type": "code",
      "metadata": {
        "colab": {
          "base_uri": "https://localhost:8080/"
        },
        "id": "OzkiMEcC3Foq",
        "outputId": "6c96da9a-3162-4ca6-b073-c23c8bd2b21d"
      },
      "source": [
        "!gdown --id '1HPkcmQmFGu-3OknddKIa5dNDsR05lIQR' --output data.zip\n",
        "!unzip data.zip\n",
        "!ls "
      ],
      "execution_count": 1,
      "outputs": [
        {
          "output_type": "stream",
          "name": "stdout",
          "text": [
            "Downloading...\n",
            "From: https://drive.google.com/uc?id=1HPkcmQmFGu-3OknddKIa5dNDsR05lIQR\n",
            "To: /content/data.zip\n",
            "372MB [00:02, 155MB/s]\n",
            "Archive:  data.zip\n",
            "   creating: timit_11/\n",
            "  inflating: timit_11/train_11.npy   \n",
            "  inflating: timit_11/test_11.npy    \n",
            "  inflating: timit_11/train_label_11.npy  \n",
            "data.zip  timit_11\n"
          ]
        }
      ]
    },
    {
      "cell_type": "markdown",
      "metadata": {
        "id": "_L_4anls8Drv"
      },
      "source": [
        "## Preparing Data\n",
        "Load the training and testing data from the `.npy` file (NumPy array)."
      ]
    },
    {
      "cell_type": "code",
      "metadata": {
        "colab": {
          "base_uri": "https://localhost:8080/"
        },
        "id": "IJjLT8em-y9G",
        "outputId": "9e106092-e6b5-4920-82fc-ebb9f8f8a2c1"
      },
      "source": [
        "import numpy as np\n",
        "\n",
        "print('Loading data ...')\n",
        "\n",
        "data_root='./timit_11/'\n",
        "train = np.load(data_root + 'train_11.npy')\n",
        "train_label = np.load(data_root + 'train_label_11.npy')\n",
        "test = np.load(data_root + 'test_11.npy')\n",
        "\n",
        "print('Size of training data: {}'.format(train.shape))\n",
        "print('Size of testing data: {}'.format(test.shape))"
      ],
      "execution_count": 2,
      "outputs": [
        {
          "output_type": "stream",
          "name": "stdout",
          "text": [
            "Loading data ...\n",
            "Size of training data: (1229932, 429)\n",
            "Size of testing data: (451552, 429)\n"
          ]
        }
      ]
    },
    {
      "cell_type": "markdown",
      "metadata": {
        "id": "us5XW_x6udZQ"
      },
      "source": [
        "## Create Dataset"
      ]
    },
    {
      "cell_type": "code",
      "metadata": {
        "id": "Fjf5EcmJtf4e"
      },
      "source": [
        "import torch\n",
        "from torch.utils.data import Dataset\n",
        "\n",
        "class TIMITDataset(Dataset):\n",
        "    def __init__(self, X, y=None):\n",
        "        self.data = torch.from_numpy(X).float()\n",
        "        if y is not None:\n",
        "            y = y.astype(np.int)\n",
        "            self.label = torch.LongTensor(y)\n",
        "        else:\n",
        "            self.label = None\n",
        "\n",
        "    def __getitem__(self, idx):\n",
        "        if self.label is not None:\n",
        "            return self.data[idx], self.label[idx]\n",
        "        else:\n",
        "            return self.data[idx]\n",
        "\n",
        "    def __len__(self):\n",
        "        return len(self.data)\n"
      ],
      "execution_count": 3,
      "outputs": []
    },
    {
      "cell_type": "markdown",
      "metadata": {
        "id": "otIC6WhGeh9v"
      },
      "source": [
        "Split the labeled data into a training set and a validation set, you can modify the variable `VAL_RATIO` to change the ratio of validation data."
      ]
    },
    {
      "cell_type": "code",
      "metadata": {
        "colab": {
          "base_uri": "https://localhost:8080/"
        },
        "id": "sYqi_lAuvC59",
        "outputId": "cb2eaf36-cb4c-4f58-cfb8-85aa159c4eca"
      },
      "source": [
        "VAL_RATIO = 0.2\n",
        "\n",
        "percent = int(train.shape[0] * (1 - VAL_RATIO))\n",
        "train_x, train_y, val_x, val_y = train[:percent], train_label[:percent], train[percent:], train_label[percent:]\n",
        "print('Size of training set: {}'.format(train_x.shape))\n",
        "print('Size of validation set: {}'.format(val_x.shape))"
      ],
      "execution_count": 4,
      "outputs": [
        {
          "output_type": "stream",
          "name": "stdout",
          "text": [
            "Size of training set: (983945, 429)\n",
            "Size of validation set: (245987, 429)\n"
          ]
        }
      ]
    },
    {
      "cell_type": "markdown",
      "metadata": {
        "id": "nbCfclUIgMTX"
      },
      "source": [
        "Create a data loader from the dataset, feel free to tweak the variable `BATCH_SIZE` here."
      ]
    },
    {
      "cell_type": "code",
      "metadata": {
        "id": "RUCbQvqJurYc"
      },
      "source": [
        "BATCH_SIZE = 64\n",
        "\n",
        "from torch.utils.data import DataLoader\n",
        "\n",
        "train_set = TIMITDataset(train_x, train_y)\n",
        "val_set = TIMITDataset(val_x, val_y)\n",
        "train_loader = DataLoader(train_set, batch_size=BATCH_SIZE, shuffle=True) #only shuffle the training data\n",
        "val_loader = DataLoader(val_set, batch_size=BATCH_SIZE, shuffle=False)"
      ],
      "execution_count": 5,
      "outputs": []
    },
    {
      "cell_type": "markdown",
      "metadata": {
        "id": "_SY7X0lUgb50"
      },
      "source": [
        "Cleanup the unneeded variables to save memory.<br>\n",
        "\n",
        "**notes: if you need to use these variables later, then you may remove this block or clean up unneeded variables later<br>the data size is quite huge, so be aware of memory usage in colab**"
      ]
    },
    {
      "cell_type": "code",
      "metadata": {
        "colab": {
          "base_uri": "https://localhost:8080/"
        },
        "id": "y8rzkGraeYeN",
        "outputId": "94edf8b9-b3ce-4f4e-b191-383695fa88f9"
      },
      "source": [
        "import gc\n",
        "\n",
        "del train, train_label, train_x, train_y, val_x, val_y\n",
        "gc.collect()"
      ],
      "execution_count": 6,
      "outputs": [
        {
          "output_type": "execute_result",
          "data": {
            "text/plain": [
              "50"
            ]
          },
          "metadata": {},
          "execution_count": 6
        }
      ]
    },
    {
      "cell_type": "markdown",
      "metadata": {
        "id": "IRqKNvNZwe3V"
      },
      "source": [
        "## Create Model"
      ]
    },
    {
      "cell_type": "markdown",
      "metadata": {
        "id": "FYr1ng5fh9pA"
      },
      "source": [
        "Define model architecture, you are encouraged to change and experiment with the model architecture."
      ]
    },
    {
      "cell_type": "code",
      "metadata": {
        "id": "lbZrwT6Ny0XL"
      },
      "source": [
        "import torch\n",
        "import torch.nn as nn\n",
        "\n",
        "class Classifier(nn.Module):\n",
        "    def __init__(self):\n",
        "        super(Classifier, self).__init__()\n",
        "        self.layer1 = nn.Linear(429, 1000)\n",
        "        self.BN1 = nn.BatchNorm1d(1000) #Use batch normaliztaion\n",
        "        self.layer2 = nn.Linear(1000, 500)\n",
        "        self.BN2 = nn.BatchNorm1d(500) #Use batch normaliztaion\n",
        "        self.layer3 = nn.Linear(500, 300)\n",
        "        self.BN3 = nn.BatchNorm1d(300) #Use batch normaliztaion\n",
        "        self.layer4 = nn.Linear(300, 100)\n",
        "        self.BN4 = nn.BatchNorm1d(100) #Use batch normaliztaion\n",
        "        self.out = nn.Linear(100, 39) \n",
        "        self.drop = nn.Dropout(p=0.2)\n",
        "        self.act_fn = nn.ReLU()\n",
        "        #self.act_fn = nn.LeakyReLU()\n",
        "\n",
        "\n",
        "    def forward(self, x):\n",
        "        x = self.layer1(x)\n",
        "        x = self.BN1(x)\n",
        "        x = self.drop(x)\n",
        "        x = self.act_fn(x)\n",
        "\n",
        "        x = self.layer2(x)\n",
        "        x = self.BN2(x)\n",
        "        x = self.drop(x)\n",
        "        x = self.act_fn(x)\n",
        "        \n",
        "        x = self.layer3(x)\n",
        "        x = self.BN3(x)\n",
        "        x = self.drop(x)\n",
        "        x = self.act_fn(x)\n",
        "        \n",
        "        x = self.layer4(x)\n",
        "        x = self.BN4(x)\n",
        "        x = self.drop(x)\n",
        "        x = self.act_fn(x)\n",
        "\n",
        "        x = self.out(x)\n",
        "        \n",
        "        return x"
      ],
      "execution_count": 25,
      "outputs": []
    },
    {
      "cell_type": "markdown",
      "metadata": {
        "id": "VRYciXZvPbYh"
      },
      "source": [
        "## Training"
      ]
    },
    {
      "cell_type": "code",
      "metadata": {
        "id": "y114Vmm3Ja6o"
      },
      "source": [
        "#check device\n",
        "def get_device():\n",
        "  return 'cuda' if torch.cuda.is_available() else 'cpu'"
      ],
      "execution_count": 26,
      "outputs": []
    },
    {
      "cell_type": "markdown",
      "metadata": {
        "id": "sEX-yjHjhGuH"
      },
      "source": [
        "Fix random seeds for reproducibility."
      ]
    },
    {
      "cell_type": "code",
      "metadata": {
        "id": "88xPiUnm0tAd"
      },
      "source": [
        "# fix random seed\n",
        "def same_seeds(seed):\n",
        "    torch.manual_seed(seed)\n",
        "    if torch.cuda.is_available():\n",
        "        torch.cuda.manual_seed(seed)\n",
        "        torch.cuda.manual_seed_all(seed)  \n",
        "    np.random.seed(seed)  \n",
        "    torch.backends.cudnn.benchmark = False\n",
        "    torch.backends.cudnn.deterministic = True"
      ],
      "execution_count": 27,
      "outputs": []
    },
    {
      "cell_type": "markdown",
      "metadata": {
        "id": "KbBcBXkSp6RA"
      },
      "source": [
        "Feel free to change the training parameters here."
      ]
    },
    {
      "cell_type": "code",
      "metadata": {
        "id": "QTp3ZXg1yO9Y",
        "colab": {
          "base_uri": "https://localhost:8080/"
        },
        "outputId": "6912fc1b-9edc-421b-e7ac-02b300b894e2"
      },
      "source": [
        "# fix random seed for reproducibility\n",
        "same_seeds(0)\n",
        "\n",
        "# get device \n",
        "device = get_device()\n",
        "print(f'DEVICE: {device}')\n",
        "\n",
        "# training parameters\n",
        "num_epoch = 200               # number of training epoch\n",
        "learning_rate = 0.001         # learning rate\n",
        "momentum = 0.9               # monentum\n",
        "weight_decay = 0.001         # weight decay\n",
        "\n",
        "# the path where checkpoint saved\n",
        "model_path = './model.ckpt'\n",
        "\n",
        "# create model, define a loss function, and optimizer\n",
        "model = Classifier().to(device)\n",
        "criterion = nn.CrossEntropyLoss() \n",
        "#optimizer = torch.optim.Adam(model.parameters())\n",
        "optimizer = torch.optim.SGD(model.parameters(), lr=learning_rate, momentum=momentum, weight_decay=weight_decay)"
      ],
      "execution_count": 28,
      "outputs": [
        {
          "output_type": "stream",
          "name": "stdout",
          "text": [
            "DEVICE: cuda\n"
          ]
        }
      ]
    },
    {
      "cell_type": "code",
      "metadata": {
        "id": "CdMWsBs7zzNs",
        "colab": {
          "base_uri": "https://localhost:8080/"
        },
        "outputId": "f3681441-5dda-4997-a88f-9b3942fc0084"
      },
      "source": [
        "# start training\n",
        "\n",
        "best_acc = 0.0\n",
        "for epoch in range(num_epoch):\n",
        "    train_acc = 0.0\n",
        "    train_loss = 0.0\n",
        "    val_acc = 0.0\n",
        "    val_loss = 0.0\n",
        "\n",
        "    # training\n",
        "    model.train() # set the model to training mode\n",
        "    for i, data in enumerate(train_loader):\n",
        "        inputs, labels = data\n",
        "        inputs, labels = inputs.to(device), labels.to(device)\n",
        "        optimizer.zero_grad() \n",
        "        outputs = model(inputs) \n",
        "        batch_loss = criterion(outputs, labels)\n",
        "        _, train_pred = torch.max(outputs, 1) # get the index of the class with the highest probability\n",
        "        batch_loss.backward()\n",
        "        optimizer.step() \n",
        "\n",
        "        train_acc += (train_pred.cpu() == labels.cpu()).sum().item()\n",
        "        train_loss += batch_loss.item()\n",
        "\n",
        "    # validation\n",
        "    if len(val_set) > 0:\n",
        "        model.eval() # set the model to evaluation mode\n",
        "        with torch.no_grad():\n",
        "            for i, data in enumerate(val_loader):\n",
        "                inputs, labels = data\n",
        "                inputs, labels = inputs.to(device), labels.to(device)\n",
        "                outputs = model(inputs)\n",
        "                batch_loss = criterion(outputs, labels) \n",
        "                _, val_pred = torch.max(outputs, 1) \n",
        "            \n",
        "                val_acc += (val_pred.cpu() == labels.cpu()).sum().item() # get the index of the class with the highest probability\n",
        "                val_loss += batch_loss.item()\n",
        "\n",
        "            print('[{:03d}/{:03d}] Train Acc: {:3.6f} Loss: {:3.6f} | Val Acc: {:3.6f} loss: {:3.6f}'.format(\n",
        "                epoch + 1, num_epoch, train_acc/len(train_set), train_loss/len(train_loader), val_acc/len(val_set), val_loss/len(val_loader)\n",
        "            ))\n",
        "\n",
        "            # if the model improves, save a checkpoint at this epoch\n",
        "            if val_acc > best_acc:\n",
        "                best_acc = val_acc\n",
        "                torch.save(model.state_dict(), model_path)\n",
        "                print('saving model with acc {:.3f}'.format(best_acc/len(val_set)))\n",
        "    else:\n",
        "        print('[{:03d}/{:03d}] Train Acc: {:3.6f} Loss: {:3.6f}'.format(\n",
        "            epoch + 1, num_epoch, train_acc/len(train_set), train_loss/len(train_loader)\n",
        "        ))\n",
        "\n",
        "# if not validating, save the last epoch\n",
        "if len(val_set) == 0:\n",
        "    torch.save(model.state_dict(), model_path)\n",
        "    print('saving model at last epoch')\n"
      ],
      "execution_count": 29,
      "outputs": [
        {
          "output_type": "stream",
          "name": "stdout",
          "text": [
            "[001/200] Train Acc: 0.488377 Loss: 1.808547 | Val Acc: 0.609573 loss: 1.305188\n",
            "saving model with acc 0.610\n",
            "[002/200] Train Acc: 0.577316 Loss: 1.400323 | Val Acc: 0.652156 loss: 1.131745\n",
            "saving model with acc 0.652\n",
            "[003/200] Train Acc: 0.606248 Loss: 1.291247 | Val Acc: 0.671897 loss: 1.059705\n",
            "saving model with acc 0.672\n",
            "[004/200] Train Acc: 0.622095 Loss: 1.229381 | Val Acc: 0.682552 loss: 1.016789\n",
            "saving model with acc 0.683\n",
            "[005/200] Train Acc: 0.634927 Loss: 1.184513 | Val Acc: 0.691724 loss: 0.982553\n",
            "saving model with acc 0.692\n",
            "[006/200] Train Acc: 0.644288 Loss: 1.150162 | Val Acc: 0.697984 loss: 0.958148\n",
            "saving model with acc 0.698\n",
            "[007/200] Train Acc: 0.652003 Loss: 1.121926 | Val Acc: 0.703440 loss: 0.939268\n",
            "saving model with acc 0.703\n",
            "[008/200] Train Acc: 0.659601 Loss: 1.094967 | Val Acc: 0.706667 loss: 0.922731\n",
            "saving model with acc 0.707\n",
            "[009/200] Train Acc: 0.665407 Loss: 1.074573 | Val Acc: 0.709472 loss: 0.912966\n",
            "saving model with acc 0.709\n",
            "[010/200] Train Acc: 0.669731 Loss: 1.055722 | Val Acc: 0.713737 loss: 0.897890\n",
            "saving model with acc 0.714\n",
            "[011/200] Train Acc: 0.676178 Loss: 1.038398 | Val Acc: 0.716013 loss: 0.887442\n",
            "saving model with acc 0.716\n",
            "[012/200] Train Acc: 0.679534 Loss: 1.023907 | Val Acc: 0.719371 loss: 0.877128\n",
            "saving model with acc 0.719\n",
            "[013/200] Train Acc: 0.683850 Loss: 1.009496 | Val Acc: 0.722014 loss: 0.868063\n",
            "saving model with acc 0.722\n",
            "[014/200] Train Acc: 0.687689 Loss: 0.995345 | Val Acc: 0.723339 loss: 0.860926\n",
            "saving model with acc 0.723\n",
            "[015/200] Train Acc: 0.691090 Loss: 0.983868 | Val Acc: 0.725262 loss: 0.853391\n",
            "saving model with acc 0.725\n",
            "[016/200] Train Acc: 0.694219 Loss: 0.970610 | Val Acc: 0.726729 loss: 0.847461\n",
            "saving model with acc 0.727\n",
            "[017/200] Train Acc: 0.697432 Loss: 0.959509 | Val Acc: 0.728274 loss: 0.840176\n",
            "saving model with acc 0.728\n",
            "[018/200] Train Acc: 0.701041 Loss: 0.948163 | Val Acc: 0.730262 loss: 0.837098\n",
            "saving model with acc 0.730\n",
            "[019/200] Train Acc: 0.704119 Loss: 0.938055 | Val Acc: 0.730787 loss: 0.834535\n",
            "saving model with acc 0.731\n",
            "[020/200] Train Acc: 0.706506 Loss: 0.927918 | Val Acc: 0.731148 loss: 0.830706\n",
            "saving model with acc 0.731\n",
            "[021/200] Train Acc: 0.709860 Loss: 0.917520 | Val Acc: 0.733185 loss: 0.824762\n",
            "saving model with acc 0.733\n",
            "[022/200] Train Acc: 0.712319 Loss: 0.908132 | Val Acc: 0.735661 loss: 0.820724\n",
            "saving model with acc 0.736\n",
            "[023/200] Train Acc: 0.714798 Loss: 0.900405 | Val Acc: 0.733376 loss: 0.822734\n",
            "[024/200] Train Acc: 0.717752 Loss: 0.890554 | Val Acc: 0.733953 loss: 0.821335\n",
            "[025/200] Train Acc: 0.718840 Loss: 0.884813 | Val Acc: 0.735384 loss: 0.815892\n",
            "[026/200] Train Acc: 0.721469 Loss: 0.876318 | Val Acc: 0.736080 loss: 0.812648\n",
            "saving model with acc 0.736\n",
            "[027/200] Train Acc: 0.723583 Loss: 0.869929 | Val Acc: 0.735876 loss: 0.814130\n",
            "[028/200] Train Acc: 0.725380 Loss: 0.863691 | Val Acc: 0.736307 loss: 0.813690\n",
            "saving model with acc 0.736\n",
            "[029/200] Train Acc: 0.726724 Loss: 0.858301 | Val Acc: 0.737466 loss: 0.810685\n",
            "saving model with acc 0.737\n",
            "[030/200] Train Acc: 0.728855 Loss: 0.852016 | Val Acc: 0.738417 loss: 0.809994\n",
            "saving model with acc 0.738\n",
            "[031/200] Train Acc: 0.730298 Loss: 0.846242 | Val Acc: 0.738218 loss: 0.809684\n",
            "[032/200] Train Acc: 0.731876 Loss: 0.841873 | Val Acc: 0.738230 loss: 0.809410\n",
            "[033/200] Train Acc: 0.732412 Loss: 0.838182 | Val Acc: 0.738551 loss: 0.808301\n",
            "saving model with acc 0.739\n",
            "[034/200] Train Acc: 0.734487 Loss: 0.834258 | Val Acc: 0.740234 loss: 0.806363\n",
            "saving model with acc 0.740\n",
            "[035/200] Train Acc: 0.734467 Loss: 0.830663 | Val Acc: 0.740690 loss: 0.802911\n",
            "saving model with acc 0.741\n",
            "[036/200] Train Acc: 0.736047 Loss: 0.826166 | Val Acc: 0.739730 loss: 0.806072\n",
            "[037/200] Train Acc: 0.736876 Loss: 0.823360 | Val Acc: 0.739072 loss: 0.809758\n",
            "[038/200] Train Acc: 0.737638 Loss: 0.819995 | Val Acc: 0.739840 loss: 0.804159\n",
            "[039/200] Train Acc: 0.738481 Loss: 0.817381 | Val Acc: 0.739767 loss: 0.804739\n",
            "[040/200] Train Acc: 0.739243 Loss: 0.815330 | Val Acc: 0.739364 loss: 0.805464\n",
            "[041/200] Train Acc: 0.739527 Loss: 0.813208 | Val Acc: 0.739901 loss: 0.806518\n",
            "[042/200] Train Acc: 0.740676 Loss: 0.810490 | Val Acc: 0.740145 loss: 0.804942\n",
            "[043/200] Train Acc: 0.741340 Loss: 0.808615 | Val Acc: 0.740092 loss: 0.803760\n",
            "[044/200] Train Acc: 0.741552 Loss: 0.806705 | Val Acc: 0.738218 loss: 0.807864\n",
            "[045/200] Train Acc: 0.742144 Loss: 0.805455 | Val Acc: 0.739933 loss: 0.801847\n",
            "[046/200] Train Acc: 0.743263 Loss: 0.802207 | Val Acc: 0.738941 loss: 0.808033\n",
            "[047/200] Train Acc: 0.743063 Loss: 0.802295 | Val Acc: 0.739913 loss: 0.805564\n",
            "[048/200] Train Acc: 0.743473 Loss: 0.800642 | Val Acc: 0.740141 loss: 0.808563\n",
            "[049/200] Train Acc: 0.744038 Loss: 0.798815 | Val Acc: 0.739629 loss: 0.802952\n",
            "[050/200] Train Acc: 0.744728 Loss: 0.796159 | Val Acc: 0.739389 loss: 0.804267\n",
            "[051/200] Train Acc: 0.744969 Loss: 0.795689 | Val Acc: 0.740584 loss: 0.800753\n",
            "[052/200] Train Acc: 0.745413 Loss: 0.794428 | Val Acc: 0.739653 loss: 0.804213\n",
            "[053/200] Train Acc: 0.745585 Loss: 0.793081 | Val Acc: 0.741003 loss: 0.803035\n",
            "saving model with acc 0.741\n",
            "[054/200] Train Acc: 0.746508 Loss: 0.791422 | Val Acc: 0.740218 loss: 0.801412\n",
            "[055/200] Train Acc: 0.747154 Loss: 0.790285 | Val Acc: 0.741051 loss: 0.802295\n",
            "saving model with acc 0.741\n",
            "[056/200] Train Acc: 0.747193 Loss: 0.789279 | Val Acc: 0.741759 loss: 0.798340\n",
            "saving model with acc 0.742\n",
            "[057/200] Train Acc: 0.747049 Loss: 0.788265 | Val Acc: 0.739324 loss: 0.806141\n",
            "[058/200] Train Acc: 0.747878 Loss: 0.785586 | Val Acc: 0.740714 loss: 0.801518\n",
            "[059/200] Train Acc: 0.747489 Loss: 0.787215 | Val Acc: 0.739742 loss: 0.804214\n",
            "[060/200] Train Acc: 0.748294 Loss: 0.784543 | Val Acc: 0.740807 loss: 0.802368\n",
            "[061/200] Train Acc: 0.748762 Loss: 0.783751 | Val Acc: 0.741206 loss: 0.799316\n",
            "[062/200] Train Acc: 0.748359 Loss: 0.782691 | Val Acc: 0.741230 loss: 0.801239\n",
            "[063/200] Train Acc: 0.748908 Loss: 0.781752 | Val Acc: 0.741698 loss: 0.799978\n",
            "[064/200] Train Acc: 0.749257 Loss: 0.781300 | Val Acc: 0.740803 loss: 0.801694\n",
            "[065/200] Train Acc: 0.749133 Loss: 0.780462 | Val Acc: 0.741600 loss: 0.800120\n",
            "[066/200] Train Acc: 0.749796 Loss: 0.779205 | Val Acc: 0.740681 loss: 0.801910\n",
            "[067/200] Train Acc: 0.749914 Loss: 0.778390 | Val Acc: 0.741043 loss: 0.804003\n",
            "[068/200] Train Acc: 0.750727 Loss: 0.777523 | Val Acc: 0.739352 loss: 0.803493\n",
            "[069/200] Train Acc: 0.750401 Loss: 0.776510 | Val Acc: 0.739722 loss: 0.803817\n",
            "[070/200] Train Acc: 0.750338 Loss: 0.776192 | Val Acc: 0.740328 loss: 0.805095\n",
            "[071/200] Train Acc: 0.750520 Loss: 0.775335 | Val Acc: 0.741442 loss: 0.801116\n",
            "[072/200] Train Acc: 0.751195 Loss: 0.774238 | Val Acc: 0.740295 loss: 0.805787\n",
            "[073/200] Train Acc: 0.750961 Loss: 0.773967 | Val Acc: 0.739616 loss: 0.806309\n",
            "[074/200] Train Acc: 0.751322 Loss: 0.773571 | Val Acc: 0.741669 loss: 0.802966\n",
            "[075/200] Train Acc: 0.751515 Loss: 0.772804 | Val Acc: 0.741958 loss: 0.800689\n",
            "saving model with acc 0.742\n",
            "[076/200] Train Acc: 0.751902 Loss: 0.772006 | Val Acc: 0.740568 loss: 0.800360\n",
            "[077/200] Train Acc: 0.752078 Loss: 0.771249 | Val Acc: 0.741340 loss: 0.800012\n",
            "[078/200] Train Acc: 0.752237 Loss: 0.771415 | Val Acc: 0.741169 loss: 0.802855\n",
            "[079/200] Train Acc: 0.752663 Loss: 0.770220 | Val Acc: 0.741925 loss: 0.799095\n",
            "[080/200] Train Acc: 0.752679 Loss: 0.769496 | Val Acc: 0.740486 loss: 0.804248\n",
            "[081/200] Train Acc: 0.752573 Loss: 0.768867 | Val Acc: 0.742877 loss: 0.798782\n",
            "saving model with acc 0.743\n",
            "[082/200] Train Acc: 0.753143 Loss: 0.768278 | Val Acc: 0.740129 loss: 0.803855\n",
            "[083/200] Train Acc: 0.753277 Loss: 0.767349 | Val Acc: 0.740824 loss: 0.800852\n",
            "[084/200] Train Acc: 0.753429 Loss: 0.767416 | Val Acc: 0.741194 loss: 0.804232\n",
            "[085/200] Train Acc: 0.753410 Loss: 0.766804 | Val Acc: 0.741194 loss: 0.801819\n",
            "[086/200] Train Acc: 0.753239 Loss: 0.766515 | Val Acc: 0.741738 loss: 0.801321\n",
            "[087/200] Train Acc: 0.753851 Loss: 0.764012 | Val Acc: 0.740096 loss: 0.802445\n",
            "[088/200] Train Acc: 0.753218 Loss: 0.766127 | Val Acc: 0.740999 loss: 0.801150\n",
            "[089/200] Train Acc: 0.754339 Loss: 0.763829 | Val Acc: 0.740332 loss: 0.802209\n",
            "[090/200] Train Acc: 0.754034 Loss: 0.764295 | Val Acc: 0.740901 loss: 0.801758\n",
            "[091/200] Train Acc: 0.753826 Loss: 0.764636 | Val Acc: 0.741161 loss: 0.802127\n",
            "[092/200] Train Acc: 0.754571 Loss: 0.762745 | Val Acc: 0.741360 loss: 0.800748\n",
            "[093/200] Train Acc: 0.754833 Loss: 0.762386 | Val Acc: 0.740161 loss: 0.804611\n",
            "[094/200] Train Acc: 0.754414 Loss: 0.760960 | Val Acc: 0.740820 loss: 0.801581\n",
            "[095/200] Train Acc: 0.754646 Loss: 0.761719 | Val Acc: 0.741116 loss: 0.802167\n",
            "[096/200] Train Acc: 0.754722 Loss: 0.762039 | Val Acc: 0.741604 loss: 0.799205\n",
            "[097/200] Train Acc: 0.754961 Loss: 0.762164 | Val Acc: 0.742194 loss: 0.799372\n",
            "[098/200] Train Acc: 0.755093 Loss: 0.760894 | Val Acc: 0.739933 loss: 0.805625\n",
            "[099/200] Train Acc: 0.755292 Loss: 0.760590 | Val Acc: 0.741535 loss: 0.801777\n",
            "[100/200] Train Acc: 0.754987 Loss: 0.761339 | Val Acc: 0.741787 loss: 0.801737\n",
            "[101/200] Train Acc: 0.755005 Loss: 0.759455 | Val Acc: 0.741564 loss: 0.802039\n",
            "[102/200] Train Acc: 0.755269 Loss: 0.759811 | Val Acc: 0.742308 loss: 0.802008\n",
            "[103/200] Train Acc: 0.755207 Loss: 0.759179 | Val Acc: 0.741137 loss: 0.801267\n",
            "[104/200] Train Acc: 0.755875 Loss: 0.758324 | Val Acc: 0.740246 loss: 0.804577\n",
            "[105/200] Train Acc: 0.755776 Loss: 0.758958 | Val Acc: 0.740527 loss: 0.805484\n",
            "[106/200] Train Acc: 0.755992 Loss: 0.757882 | Val Acc: 0.742771 loss: 0.798867\n",
            "[107/200] Train Acc: 0.755632 Loss: 0.758221 | Val Acc: 0.741970 loss: 0.802715\n",
            "[108/200] Train Acc: 0.756118 Loss: 0.757096 | Val Acc: 0.742336 loss: 0.800213\n",
            "[109/200] Train Acc: 0.756357 Loss: 0.756046 | Val Acc: 0.741604 loss: 0.804667\n",
            "[110/200] Train Acc: 0.756208 Loss: 0.756599 | Val Acc: 0.742210 loss: 0.801727\n",
            "[111/200] Train Acc: 0.755950 Loss: 0.756567 | Val Acc: 0.741328 loss: 0.802745\n",
            "[112/200] Train Acc: 0.756141 Loss: 0.756700 | Val Acc: 0.740137 loss: 0.803664\n",
            "[113/200] Train Acc: 0.755989 Loss: 0.756160 | Val Acc: 0.741328 loss: 0.802428\n",
            "[114/200] Train Acc: 0.756389 Loss: 0.755672 | Val Acc: 0.741828 loss: 0.801196\n",
            "[115/200] Train Acc: 0.756525 Loss: 0.755379 | Val Acc: 0.741999 loss: 0.800418\n",
            "[116/200] Train Acc: 0.756388 Loss: 0.755486 | Val Acc: 0.742808 loss: 0.798139\n",
            "[117/200] Train Acc: 0.756935 Loss: 0.754909 | Val Acc: 0.740917 loss: 0.801537\n",
            "[118/200] Train Acc: 0.757431 Loss: 0.752809 | Val Acc: 0.742425 loss: 0.802747\n",
            "[119/200] Train Acc: 0.757104 Loss: 0.754028 | Val Acc: 0.742486 loss: 0.802002\n",
            "[120/200] Train Acc: 0.757282 Loss: 0.753136 | Val Acc: 0.741807 loss: 0.801280\n",
            "[121/200] Train Acc: 0.757648 Loss: 0.752824 | Val Acc: 0.742255 loss: 0.801780\n",
            "[122/200] Train Acc: 0.757997 Loss: 0.751814 | Val Acc: 0.740816 loss: 0.806285\n",
            "[123/200] Train Acc: 0.757771 Loss: 0.752102 | Val Acc: 0.742478 loss: 0.799526\n",
            "[124/200] Train Acc: 0.757813 Loss: 0.751962 | Val Acc: 0.741429 loss: 0.800575\n",
            "[125/200] Train Acc: 0.757400 Loss: 0.752732 | Val Acc: 0.740868 loss: 0.800378\n",
            "[126/200] Train Acc: 0.757330 Loss: 0.752159 | Val Acc: 0.742173 loss: 0.801132\n",
            "[127/200] Train Acc: 0.757829 Loss: 0.751535 | Val Acc: 0.740954 loss: 0.802867\n",
            "[128/200] Train Acc: 0.758352 Loss: 0.751199 | Val Acc: 0.741120 loss: 0.802782\n",
            "[129/200] Train Acc: 0.757960 Loss: 0.751169 | Val Acc: 0.742121 loss: 0.798633\n",
            "[130/200] Train Acc: 0.757818 Loss: 0.751562 | Val Acc: 0.741564 loss: 0.799821\n",
            "[131/200] Train Acc: 0.757925 Loss: 0.750847 | Val Acc: 0.742328 loss: 0.802078\n",
            "[132/200] Train Acc: 0.758831 Loss: 0.749633 | Val Acc: 0.743576 loss: 0.799935\n",
            "saving model with acc 0.744\n",
            "[133/200] Train Acc: 0.758077 Loss: 0.750479 | Val Acc: 0.742360 loss: 0.798765\n",
            "[134/200] Train Acc: 0.757623 Loss: 0.750916 | Val Acc: 0.742503 loss: 0.798985\n",
            "[135/200] Train Acc: 0.757717 Loss: 0.750835 | Val Acc: 0.741259 loss: 0.802381\n",
            "[136/200] Train Acc: 0.758102 Loss: 0.749270 | Val Acc: 0.741767 loss: 0.800465\n",
            "[137/200] Train Acc: 0.758419 Loss: 0.749980 | Val Acc: 0.741373 loss: 0.801027\n",
            "[138/200] Train Acc: 0.758528 Loss: 0.748240 | Val Acc: 0.740710 loss: 0.805527\n",
            "[139/200] Train Acc: 0.758059 Loss: 0.748674 | Val Acc: 0.741742 loss: 0.801819\n",
            "[140/200] Train Acc: 0.758613 Loss: 0.749118 | Val Acc: 0.742714 loss: 0.799174\n",
            "[141/200] Train Acc: 0.758441 Loss: 0.747967 | Val Acc: 0.742417 loss: 0.801584\n",
            "[142/200] Train Acc: 0.759039 Loss: 0.747826 | Val Acc: 0.741263 loss: 0.801449\n",
            "[143/200] Train Acc: 0.758763 Loss: 0.748378 | Val Acc: 0.740950 loss: 0.803011\n",
            "[144/200] Train Acc: 0.758329 Loss: 0.748427 | Val Acc: 0.741368 loss: 0.802475\n",
            "[145/200] Train Acc: 0.758938 Loss: 0.748317 | Val Acc: 0.741104 loss: 0.803352\n",
            "[146/200] Train Acc: 0.759323 Loss: 0.746798 | Val Acc: 0.741775 loss: 0.799624\n",
            "[147/200] Train Acc: 0.758986 Loss: 0.747879 | Val Acc: 0.741190 loss: 0.805484\n",
            "[148/200] Train Acc: 0.759193 Loss: 0.746469 | Val Acc: 0.741840 loss: 0.800867\n",
            "[149/200] Train Acc: 0.759394 Loss: 0.746862 | Val Acc: 0.740165 loss: 0.805191\n",
            "[150/200] Train Acc: 0.759050 Loss: 0.746983 | Val Acc: 0.742551 loss: 0.800962\n",
            "[151/200] Train Acc: 0.758889 Loss: 0.746614 | Val Acc: 0.741133 loss: 0.802980\n",
            "[152/200] Train Acc: 0.758977 Loss: 0.747707 | Val Acc: 0.741007 loss: 0.803391\n",
            "[153/200] Train Acc: 0.759247 Loss: 0.746192 | Val Acc: 0.741336 loss: 0.801645\n",
            "[154/200] Train Acc: 0.759162 Loss: 0.746259 | Val Acc: 0.742421 loss: 0.801364\n",
            "[155/200] Train Acc: 0.759589 Loss: 0.745293 | Val Acc: 0.741055 loss: 0.802335\n",
            "[156/200] Train Acc: 0.759193 Loss: 0.746566 | Val Acc: 0.740287 loss: 0.804057\n",
            "[157/200] Train Acc: 0.759649 Loss: 0.745453 | Val Acc: 0.741133 loss: 0.803292\n",
            "[158/200] Train Acc: 0.759288 Loss: 0.746235 | Val Acc: 0.742722 loss: 0.797896\n",
            "[159/200] Train Acc: 0.758785 Loss: 0.747172 | Val Acc: 0.740722 loss: 0.802768\n",
            "[160/200] Train Acc: 0.759873 Loss: 0.745350 | Val Acc: 0.740588 loss: 0.804063\n",
            "[161/200] Train Acc: 0.759300 Loss: 0.745686 | Val Acc: 0.740515 loss: 0.804782\n",
            "[162/200] Train Acc: 0.759824 Loss: 0.744793 | Val Acc: 0.739242 loss: 0.806994\n",
            "[163/200] Train Acc: 0.759437 Loss: 0.745445 | Val Acc: 0.740580 loss: 0.801936\n",
            "[164/200] Train Acc: 0.759419 Loss: 0.743982 | Val Acc: 0.741312 loss: 0.804039\n",
            "[165/200] Train Acc: 0.760224 Loss: 0.744238 | Val Acc: 0.739588 loss: 0.806724\n",
            "[166/200] Train Acc: 0.759698 Loss: 0.744769 | Val Acc: 0.740023 loss: 0.805830\n",
            "[167/200] Train Acc: 0.759789 Loss: 0.744405 | Val Acc: 0.741019 loss: 0.804913\n",
            "[168/200] Train Acc: 0.759986 Loss: 0.743478 | Val Acc: 0.741202 loss: 0.800152\n",
            "[169/200] Train Acc: 0.759579 Loss: 0.744317 | Val Acc: 0.742747 loss: 0.799743\n",
            "[170/200] Train Acc: 0.760157 Loss: 0.743825 | Val Acc: 0.740775 loss: 0.804571\n",
            "[171/200] Train Acc: 0.759501 Loss: 0.744845 | Val Acc: 0.741649 loss: 0.800691\n",
            "[172/200] Train Acc: 0.759551 Loss: 0.743758 | Val Acc: 0.740214 loss: 0.805074\n",
            "[173/200] Train Acc: 0.760215 Loss: 0.743993 | Val Acc: 0.740421 loss: 0.803653\n",
            "[174/200] Train Acc: 0.760035 Loss: 0.744263 | Val Acc: 0.741580 loss: 0.802036\n",
            "[175/200] Train Acc: 0.760503 Loss: 0.742703 | Val Acc: 0.741303 loss: 0.803785\n",
            "[176/200] Train Acc: 0.760162 Loss: 0.743176 | Val Acc: 0.741486 loss: 0.801839\n",
            "[177/200] Train Acc: 0.759513 Loss: 0.743454 | Val Acc: 0.741068 loss: 0.801406\n",
            "[178/200] Train Acc: 0.760050 Loss: 0.742961 | Val Acc: 0.741003 loss: 0.802865\n",
            "[179/200] Train Acc: 0.760285 Loss: 0.743773 | Val Acc: 0.741820 loss: 0.802441\n",
            "[180/200] Train Acc: 0.760600 Loss: 0.741982 | Val Acc: 0.741084 loss: 0.803414\n",
            "[181/200] Train Acc: 0.760773 Loss: 0.742349 | Val Acc: 0.740433 loss: 0.804339\n",
            "[182/200] Train Acc: 0.760045 Loss: 0.742448 | Val Acc: 0.740950 loss: 0.802873\n",
            "[183/200] Train Acc: 0.760690 Loss: 0.741122 | Val Acc: 0.741222 loss: 0.801526\n",
            "[184/200] Train Acc: 0.759811 Loss: 0.742590 | Val Acc: 0.740738 loss: 0.804986\n",
            "[185/200] Train Acc: 0.760136 Loss: 0.743109 | Val Acc: 0.741873 loss: 0.800064\n",
            "[186/200] Train Acc: 0.760441 Loss: 0.741998 | Val Acc: 0.740726 loss: 0.804151\n",
            "[187/200] Train Acc: 0.760507 Loss: 0.741461 | Val Acc: 0.741462 loss: 0.802737\n",
            "[188/200] Train Acc: 0.760152 Loss: 0.741780 | Val Acc: 0.741673 loss: 0.802396\n",
            "[189/200] Train Acc: 0.760466 Loss: 0.742354 | Val Acc: 0.740755 loss: 0.804319\n",
            "[190/200] Train Acc: 0.760717 Loss: 0.741364 | Val Acc: 0.742165 loss: 0.798790\n",
            "[191/200] Train Acc: 0.760804 Loss: 0.741218 | Val Acc: 0.740978 loss: 0.804434\n",
            "[192/200] Train Acc: 0.761099 Loss: 0.740433 | Val Acc: 0.740852 loss: 0.804869\n",
            "[193/200] Train Acc: 0.760687 Loss: 0.741436 | Val Acc: 0.740454 loss: 0.805876\n",
            "[194/200] Train Acc: 0.760984 Loss: 0.740357 | Val Acc: 0.741194 loss: 0.804994\n",
            "[195/200] Train Acc: 0.761094 Loss: 0.740400 | Val Acc: 0.741673 loss: 0.802866\n",
            "[196/200] Train Acc: 0.761087 Loss: 0.740470 | Val Acc: 0.741600 loss: 0.802449\n",
            "[197/200] Train Acc: 0.761247 Loss: 0.740690 | Val Acc: 0.740279 loss: 0.804560\n",
            "[198/200] Train Acc: 0.760858 Loss: 0.742085 | Val Acc: 0.739169 loss: 0.811424\n",
            "[199/200] Train Acc: 0.760999 Loss: 0.740553 | Val Acc: 0.741795 loss: 0.798698\n",
            "[200/200] Train Acc: 0.761011 Loss: 0.740701 | Val Acc: 0.740377 loss: 0.805436\n"
          ]
        }
      ]
    },
    {
      "cell_type": "markdown",
      "metadata": {
        "id": "1Hi7jTn3PX-m"
      },
      "source": [
        "## Testing"
      ]
    },
    {
      "cell_type": "markdown",
      "metadata": {
        "id": "NfUECMFCn5VG"
      },
      "source": [
        "Create a testing dataset, and load model from the saved checkpoint."
      ]
    },
    {
      "cell_type": "code",
      "metadata": {
        "id": "1PKjtAScPWtr",
        "colab": {
          "base_uri": "https://localhost:8080/"
        },
        "outputId": "06acfef1-f95f-447e-f2d8-c83f6fee1a62"
      },
      "source": [
        "# create testing dataset\n",
        "test_set = TIMITDataset(test, None)\n",
        "test_loader = DataLoader(test_set, batch_size=BATCH_SIZE, shuffle=False)\n",
        "\n",
        "# create model and load weights from checkpoint\n",
        "model = Classifier().to(device)\n",
        "model.load_state_dict(torch.load(model_path))"
      ],
      "execution_count": 30,
      "outputs": [
        {
          "output_type": "execute_result",
          "data": {
            "text/plain": [
              "<All keys matched successfully>"
            ]
          },
          "metadata": {},
          "execution_count": 30
        }
      ]
    },
    {
      "cell_type": "markdown",
      "metadata": {
        "id": "940TtCCdoYd0"
      },
      "source": [
        "Make prediction."
      ]
    },
    {
      "cell_type": "code",
      "metadata": {
        "id": "84HU5GGjPqR0"
      },
      "source": [
        "predict = []\n",
        "model.eval() # set the model to evaluation mode\n",
        "with torch.no_grad():\n",
        "    for i, data in enumerate(test_loader):\n",
        "        inputs = data\n",
        "        inputs = inputs.to(device)\n",
        "        outputs = model(inputs)\n",
        "        _, test_pred = torch.max(outputs, 1) # get the index of the class with the highest probability\n",
        "\n",
        "        for y in test_pred.cpu().numpy():\n",
        "            predict.append(y)"
      ],
      "execution_count": 31,
      "outputs": []
    },
    {
      "cell_type": "markdown",
      "metadata": {
        "id": "AWDf_C-omElb"
      },
      "source": [
        "Write prediction to a CSV file.\n",
        "\n",
        "After finish running this block, download the file `prediction.csv` from the files section on the left-hand side and submit it to Kaggle."
      ]
    },
    {
      "cell_type": "code",
      "metadata": {
        "id": "GuljYSPHcZir"
      },
      "source": [
        "with open('prediction.csv', 'w') as f:\n",
        "    f.write('Id,Class\\n')\n",
        "    for i, y in enumerate(predict):\n",
        "        f.write('{},{}\\n'.format(i, y))"
      ],
      "execution_count": 32,
      "outputs": []
    }
  ]
}