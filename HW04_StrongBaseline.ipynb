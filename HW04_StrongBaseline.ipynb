{
  "nbformat": 4,
  "nbformat_minor": 0,
  "metadata": {
    "accelerator": "GPU",
    "colab": {
      "name": "HW04_(1)_(1)_(2).ipynb",
      "provenance": [],
      "collapsed_sections": []
    },
    "kernelspec": {
      "display_name": "Python 3",
      "name": "python3"
    },
    "widgets": {
      "application/vnd.jupyter.widget-state+json": {
        "0aeea4049b8e4439b276412eb73814cc": {
          "model_module": "@jupyter-widgets/controls",
          "model_name": "HBoxModel",
          "model_module_version": "1.5.0",
          "state": {
            "_view_name": "HBoxView",
            "_dom_classes": [],
            "_model_name": "HBoxModel",
            "_view_module": "@jupyter-widgets/controls",
            "_model_module_version": "1.5.0",
            "_view_count": null,
            "_view_module_version": "1.5.0",
            "box_style": "",
            "layout": "IPY_MODEL_08bf3a6dccf84c3bbe4a99c23d7f1f1d",
            "_model_module": "@jupyter-widgets/controls",
            "children": [
              "IPY_MODEL_8cdbaa1400994a32b31a93311e3aa5ad",
              "IPY_MODEL_0834e2bc9cb54c5385824bc6b548d60f",
              "IPY_MODEL_ae04002f2a81449b8c62170556192e1c"
            ]
          }
        },
        "08bf3a6dccf84c3bbe4a99c23d7f1f1d": {
          "model_module": "@jupyter-widgets/base",
          "model_name": "LayoutModel",
          "model_module_version": "1.2.0",
          "state": {
            "_view_name": "LayoutView",
            "grid_template_rows": null,
            "right": null,
            "justify_content": null,
            "_view_module": "@jupyter-widgets/base",
            "overflow": null,
            "_model_module_version": "1.2.0",
            "_view_count": null,
            "flex_flow": null,
            "width": null,
            "min_width": null,
            "border": null,
            "align_items": null,
            "bottom": null,
            "_model_module": "@jupyter-widgets/base",
            "top": null,
            "grid_column": null,
            "overflow_y": null,
            "overflow_x": null,
            "grid_auto_flow": null,
            "grid_area": null,
            "grid_template_columns": null,
            "flex": null,
            "_model_name": "LayoutModel",
            "justify_items": null,
            "grid_row": null,
            "max_height": null,
            "align_content": null,
            "visibility": null,
            "align_self": null,
            "height": null,
            "min_height": null,
            "padding": null,
            "grid_auto_rows": null,
            "grid_gap": null,
            "max_width": null,
            "order": null,
            "_view_module_version": "1.2.0",
            "grid_template_areas": null,
            "object_position": null,
            "object_fit": null,
            "grid_auto_columns": null,
            "margin": null,
            "display": null,
            "left": null
          }
        },
        "8cdbaa1400994a32b31a93311e3aa5ad": {
          "model_module": "@jupyter-widgets/controls",
          "model_name": "HTMLModel",
          "model_module_version": "1.5.0",
          "state": {
            "_view_name": "HTMLView",
            "style": "IPY_MODEL_bbec0652a6a44a04800cee6e51c8b3f7",
            "_dom_classes": [],
            "description": "",
            "_model_name": "HTMLModel",
            "placeholder": "​",
            "_view_module": "@jupyter-widgets/controls",
            "_model_module_version": "1.5.0",
            "value": "100%",
            "_view_count": null,
            "_view_module_version": "1.5.0",
            "description_tooltip": null,
            "_model_module": "@jupyter-widgets/controls",
            "layout": "IPY_MODEL_863ca812755f498d897da8e3ad96c19d"
          }
        },
        "0834e2bc9cb54c5385824bc6b548d60f": {
          "model_module": "@jupyter-widgets/controls",
          "model_name": "FloatProgressModel",
          "model_module_version": "1.5.0",
          "state": {
            "_view_name": "ProgressView",
            "style": "IPY_MODEL_926f31642d0a4448aed5696e9f52a647",
            "_dom_classes": [],
            "description": "",
            "_model_name": "FloatProgressModel",
            "bar_style": "success",
            "max": 6000,
            "_view_module": "@jupyter-widgets/controls",
            "_model_module_version": "1.5.0",
            "value": 6000,
            "_view_count": null,
            "_view_module_version": "1.5.0",
            "orientation": "horizontal",
            "min": 0,
            "description_tooltip": null,
            "_model_module": "@jupyter-widgets/controls",
            "layout": "IPY_MODEL_719bc1a8b990484f914bb4631e99ffcd"
          }
        },
        "ae04002f2a81449b8c62170556192e1c": {
          "model_module": "@jupyter-widgets/controls",
          "model_name": "HTMLModel",
          "model_module_version": "1.5.0",
          "state": {
            "_view_name": "HTMLView",
            "style": "IPY_MODEL_b8e6399e414944f4b612fedaea73774f",
            "_dom_classes": [],
            "description": "",
            "_model_name": "HTMLModel",
            "placeholder": "​",
            "_view_module": "@jupyter-widgets/controls",
            "_model_module_version": "1.5.0",
            "value": " 6000/6000 [01:52&lt;00:00, 55.34it/s]",
            "_view_count": null,
            "_view_module_version": "1.5.0",
            "description_tooltip": null,
            "_model_module": "@jupyter-widgets/controls",
            "layout": "IPY_MODEL_13bb9011338b4940849c9867ba2312f3"
          }
        },
        "bbec0652a6a44a04800cee6e51c8b3f7": {
          "model_module": "@jupyter-widgets/controls",
          "model_name": "DescriptionStyleModel",
          "model_module_version": "1.5.0",
          "state": {
            "_view_name": "StyleView",
            "_model_name": "DescriptionStyleModel",
            "description_width": "",
            "_view_module": "@jupyter-widgets/base",
            "_model_module_version": "1.5.0",
            "_view_count": null,
            "_view_module_version": "1.2.0",
            "_model_module": "@jupyter-widgets/controls"
          }
        },
        "863ca812755f498d897da8e3ad96c19d": {
          "model_module": "@jupyter-widgets/base",
          "model_name": "LayoutModel",
          "model_module_version": "1.2.0",
          "state": {
            "_view_name": "LayoutView",
            "grid_template_rows": null,
            "right": null,
            "justify_content": null,
            "_view_module": "@jupyter-widgets/base",
            "overflow": null,
            "_model_module_version": "1.2.0",
            "_view_count": null,
            "flex_flow": null,
            "width": null,
            "min_width": null,
            "border": null,
            "align_items": null,
            "bottom": null,
            "_model_module": "@jupyter-widgets/base",
            "top": null,
            "grid_column": null,
            "overflow_y": null,
            "overflow_x": null,
            "grid_auto_flow": null,
            "grid_area": null,
            "grid_template_columns": null,
            "flex": null,
            "_model_name": "LayoutModel",
            "justify_items": null,
            "grid_row": null,
            "max_height": null,
            "align_content": null,
            "visibility": null,
            "align_self": null,
            "height": null,
            "min_height": null,
            "padding": null,
            "grid_auto_rows": null,
            "grid_gap": null,
            "max_width": null,
            "order": null,
            "_view_module_version": "1.2.0",
            "grid_template_areas": null,
            "object_position": null,
            "object_fit": null,
            "grid_auto_columns": null,
            "margin": null,
            "display": null,
            "left": null
          }
        },
        "926f31642d0a4448aed5696e9f52a647": {
          "model_module": "@jupyter-widgets/controls",
          "model_name": "ProgressStyleModel",
          "model_module_version": "1.5.0",
          "state": {
            "_view_name": "StyleView",
            "_model_name": "ProgressStyleModel",
            "description_width": "",
            "_view_module": "@jupyter-widgets/base",
            "_model_module_version": "1.5.0",
            "_view_count": null,
            "_view_module_version": "1.2.0",
            "bar_color": null,
            "_model_module": "@jupyter-widgets/controls"
          }
        },
        "719bc1a8b990484f914bb4631e99ffcd": {
          "model_module": "@jupyter-widgets/base",
          "model_name": "LayoutModel",
          "model_module_version": "1.2.0",
          "state": {
            "_view_name": "LayoutView",
            "grid_template_rows": null,
            "right": null,
            "justify_content": null,
            "_view_module": "@jupyter-widgets/base",
            "overflow": null,
            "_model_module_version": "1.2.0",
            "_view_count": null,
            "flex_flow": null,
            "width": null,
            "min_width": null,
            "border": null,
            "align_items": null,
            "bottom": null,
            "_model_module": "@jupyter-widgets/base",
            "top": null,
            "grid_column": null,
            "overflow_y": null,
            "overflow_x": null,
            "grid_auto_flow": null,
            "grid_area": null,
            "grid_template_columns": null,
            "flex": null,
            "_model_name": "LayoutModel",
            "justify_items": null,
            "grid_row": null,
            "max_height": null,
            "align_content": null,
            "visibility": null,
            "align_self": null,
            "height": null,
            "min_height": null,
            "padding": null,
            "grid_auto_rows": null,
            "grid_gap": null,
            "max_width": null,
            "order": null,
            "_view_module_version": "1.2.0",
            "grid_template_areas": null,
            "object_position": null,
            "object_fit": null,
            "grid_auto_columns": null,
            "margin": null,
            "display": null,
            "left": null
          }
        },
        "b8e6399e414944f4b612fedaea73774f": {
          "model_module": "@jupyter-widgets/controls",
          "model_name": "DescriptionStyleModel",
          "model_module_version": "1.5.0",
          "state": {
            "_view_name": "StyleView",
            "_model_name": "DescriptionStyleModel",
            "description_width": "",
            "_view_module": "@jupyter-widgets/base",
            "_model_module_version": "1.5.0",
            "_view_count": null,
            "_view_module_version": "1.2.0",
            "_model_module": "@jupyter-widgets/controls"
          }
        },
        "13bb9011338b4940849c9867ba2312f3": {
          "model_module": "@jupyter-widgets/base",
          "model_name": "LayoutModel",
          "model_module_version": "1.2.0",
          "state": {
            "_view_name": "LayoutView",
            "grid_template_rows": null,
            "right": null,
            "justify_content": null,
            "_view_module": "@jupyter-widgets/base",
            "overflow": null,
            "_model_module_version": "1.2.0",
            "_view_count": null,
            "flex_flow": null,
            "width": null,
            "min_width": null,
            "border": null,
            "align_items": null,
            "bottom": null,
            "_model_module": "@jupyter-widgets/base",
            "top": null,
            "grid_column": null,
            "overflow_y": null,
            "overflow_x": null,
            "grid_auto_flow": null,
            "grid_area": null,
            "grid_template_columns": null,
            "flex": null,
            "_model_name": "LayoutModel",
            "justify_items": null,
            "grid_row": null,
            "max_height": null,
            "align_content": null,
            "visibility": null,
            "align_self": null,
            "height": null,
            "min_height": null,
            "padding": null,
            "grid_auto_rows": null,
            "grid_gap": null,
            "max_width": null,
            "order": null,
            "_view_module_version": "1.2.0",
            "grid_template_areas": null,
            "object_position": null,
            "object_fit": null,
            "grid_auto_columns": null,
            "margin": null,
            "display": null,
            "left": null
          }
        }
      }
    }
  },
  "cells": [
    {
      "cell_type": "markdown",
      "metadata": {
        "id": "zC5KwRyl6Flp"
      },
      "source": [
        "# Task description\n",
        "- Classify the speakers of given features.\n",
        "- Main goal: Learn how to use transformer.\n",
        "- Baselines:\n",
        "  - Easy: Run sample code and know how to use transformer.\n",
        "  - Medium: Know how to adjust parameters of transformer.\n",
        "  - Hard: Construct [conformer](https://arxiv.org/abs/2005.08100) which is a variety of transformer. \n",
        "\n",
        "- Other links\n",
        "  - Kaggle: [link](https://www.kaggle.com/t/859c9ca9ede14fdea841be627c412322)\n",
        "  - Slide: [link](https://speech.ee.ntu.edu.tw/~hylee/ml/ml2021-course-data/hw/HW04/HW04.pdf)\n",
        "  - Data: [link](https://drive.google.com/file/d/1T0RPnu-Sg5eIPwQPfYysipfcz81MnsYe/view?usp=sharing)\n",
        "  - Video (Chinese): [link](https://www.youtube.com/watch?v=EPerg2UnGaI)\n",
        "  - Video (English): [link](https://www.youtube.com/watch?v=Gpz6AUvCak0)\n",
        "  - Solution for downloading dataset fail.: [link](https://drive.google.com/drive/folders/13T0Pa_WGgQxNkqZk781qhc5T9-zfh19e?usp=sharing)"
      ]
    },
    {
      "cell_type": "markdown",
      "metadata": {
        "id": "TPDoreyypeJE"
      },
      "source": [
        "# Download dataset\n",
        "- Please follow [here](https://drive.google.com/drive/folders/13T0Pa_WGgQxNkqZk781qhc5T9-zfh19e?usp=sharing) to download data\n",
        "- Data is [here](https://drive.google.com/file/d/1gaFy8RaQVUEXo2n0peCBR5gYKCB-mNHc/view?usp=sharing)"
      ]
    },
    {
      "cell_type": "markdown",
      "metadata": {
        "id": "PJ_LcVJ-5Y_Z"
      },
      "source": [
        "**Reference**\n",
        "\n",
        "This implementation was heavily influenced by Soohwan Kim's implementation of Conformer.\n",
        "https://github.com/sooftware/conformer"
      ]
    },
    {
      "cell_type": "code",
      "metadata": {
        "id": "tYHk82gVoZXe"
      },
      "source": [
        "import torch\n",
        "from IPython.display import clear_output "
      ],
      "execution_count": 1,
      "outputs": []
    },
    {
      "cell_type": "code",
      "metadata": {
        "id": "QvpaILXnJIcw"
      },
      "source": [
        "!gdown --id '1rL1q6nJEwKsVyBpark1ezR-bycS2oJaL' --output Dataset.zip\n",
        "!unzip Dataset.zip\n",
        "!rm Dataset.zip\n",
        "clear_output()"
      ],
      "execution_count": 2,
      "outputs": []
    },
    {
      "cell_type": "markdown",
      "metadata": {
        "id": "Mz_NpuAipk3h"
      },
      "source": [
        "## Dataset\n",
        "- Original dataset is [Voxceleb1](https://www.robots.ox.ac.uk/~vgg/data/voxceleb/).\n",
        "- The [license](https://creativecommons.org/licenses/by/4.0/) and [complete version](https://www.robots.ox.ac.uk/~vgg/data/voxceleb/files/license.txt) of Voxceleb1.\n",
        "- We randomly select 600 speakers from Voxceleb1.\n",
        "- Then preprocess the raw waveforms into mel-spectrograms.\n",
        "\n",
        "- Args:\n",
        "  - data_dir: The path to the data directory.\n",
        "  - metadata_path: The path to the metadata.\n",
        "  - segment_len: The length of audio segment for training. \n",
        "- The architecture of data directory \\\\\n",
        "  - data directory \\\\\n",
        "  |---- metadata.json \\\\\n",
        "  |---- testdata.json \\\\\n",
        "  |---- mapping.json \\\\\n",
        "  |---- uttr-{random string}.pt \\\\\n",
        "\n",
        "- The information in metadata\n",
        "  - \"n_mels\": The dimention of mel-spectrogram.\n",
        "  - \"speakers\": A dictionary. \n",
        "    - Key: speaker ids.\n",
        "    - value: \"feature_path\" and \"mel_len\"\n",
        "\n",
        "\n",
        "For efficiency, we segment the mel-spectrograms into segments in the traing step."
      ]
    },
    {
      "cell_type": "code",
      "metadata": {
        "id": "cd7hoGhYtbXQ"
      },
      "source": [
        "import os\n",
        "import json\n",
        "import torch\n",
        "import random\n",
        "from pathlib import Path\n",
        "from torch.utils.data import Dataset\n",
        "from torch.nn.utils.rnn import pad_sequence\n",
        " \n",
        " \n",
        "class myDataset(Dataset):\n",
        "  def __init__(self, data_dir, segment_len=128):\n",
        "    self.data_dir = data_dir\n",
        "    self.segment_len = segment_len\n",
        " \n",
        "    # Load the mapping from speaker neme to their corresponding id. \n",
        "    mapping_path = Path(data_dir) / \"mapping.json\"\n",
        "    mapping = json.load(mapping_path.open())\n",
        "    self.speaker2id = mapping[\"speaker2id\"]\n",
        " \n",
        "    # Load metadata of training data.\n",
        "    metadata_path = Path(data_dir) / \"metadata.json\"\n",
        "    metadata = json.load(open(metadata_path))[\"speakers\"]\n",
        " \n",
        "    # Get the total number of speaker.\n",
        "    self.speaker_num = len(metadata.keys())\n",
        "    self.data = []\n",
        "    for speaker in metadata.keys():\n",
        "      for utterances in metadata[speaker]:\n",
        "        self.data.append([utterances[\"feature_path\"], self.speaker2id[speaker]])\n",
        " \n",
        "  def __len__(self):\n",
        "    return len(self.data)\n",
        " \n",
        "  def __getitem__(self, index):\n",
        "    feat_path, speaker = self.data[index]\n",
        "    # Load preprocessed mel-spectrogram.\n",
        "    mel = torch.load(os.path.join(self.data_dir, feat_path))\n",
        " \n",
        "    # Segmemt mel-spectrogram into \"segment_len\" frames.\n",
        "    if len(mel) > self.segment_len:\n",
        "      # Randomly get the starting point of the segment.\n",
        "      start = random.randint(0, len(mel) - self.segment_len)\n",
        "      # Get a segment with \"segment_len\" frames.\n",
        "      mel = torch.FloatTensor(mel[start:start+self.segment_len])\n",
        "    else:\n",
        "      mel = torch.FloatTensor(mel)\n",
        "    # Turn the speaker id into long for computing loss later.\n",
        "    speaker = torch.FloatTensor([speaker]).long()\n",
        "    return mel, speaker\n",
        " \n",
        "  def get_speaker_number(self):\n",
        "    return self.speaker_num"
      ],
      "execution_count": 3,
      "outputs": []
    },
    {
      "cell_type": "markdown",
      "metadata": {
        "id": "mqJxjoi_NGnB"
      },
      "source": [
        "## Dataloader\n",
        "- Split dataset into training dataset(90%) and validation dataset(10%).\n",
        "- Create dataloader to iterate the data.\n"
      ]
    },
    {
      "cell_type": "code",
      "metadata": {
        "id": "zuT1AuFENI8t"
      },
      "source": [
        "import torch\n",
        "from torch.utils.data import DataLoader, random_split\n",
        "from torch.nn.utils.rnn import pad_sequence\n",
        "\n",
        "\n",
        "def collate_batch(batch):\n",
        "  # Process features within a batch.\n",
        "  \"\"\"Collate a batch of data.\"\"\"\n",
        "  mel, speaker = zip(*batch)\n",
        "  # Because we train the model batch by batch, we need to pad the features in the same batch to make their lengths the same.\n",
        "  mel = pad_sequence(mel, batch_first=True, padding_value=-20)    # pad log 10^(-20) which is very small value.\n",
        "  # mel: (batch size, length, 40)\n",
        "  return mel, torch.FloatTensor(speaker).long()\n",
        "\n",
        "\n",
        "def get_dataloader(data_dir, batch_size, n_workers):\n",
        "  \"\"\"Generate dataloader\"\"\"\n",
        "  dataset = myDataset(data_dir)\n",
        "  speaker_num = dataset.get_speaker_number()\n",
        "  # Split dataset into training dataset and validation dataset\n",
        "  trainlen = int(0.9 * len(dataset))\n",
        "  lengths = [trainlen, len(dataset) - trainlen]\n",
        "  trainset, validset = random_split(dataset, lengths)\n",
        "\n",
        "  train_loader = DataLoader(\n",
        "    trainset,\n",
        "    batch_size=batch_size,\n",
        "    shuffle=True,\n",
        "    drop_last=True,\n",
        "    num_workers=n_workers,\n",
        "    pin_memory=True,\n",
        "    collate_fn=collate_batch,\n",
        "  )\n",
        "  valid_loader = DataLoader(\n",
        "    validset,\n",
        "    batch_size=batch_size,\n",
        "    num_workers=n_workers,\n",
        "    drop_last=True,\n",
        "    pin_memory=True,\n",
        "    collate_fn=collate_batch,\n",
        "  )\n",
        "\n",
        "  return train_loader, valid_loader, speaker_num\n"
      ],
      "execution_count": 4,
      "outputs": []
    },
    {
      "cell_type": "markdown",
      "metadata": {
        "id": "X0x6eXiHpr4R"
      },
      "source": [
        "# Model\n",
        "- TransformerEncoderLayer:\n",
        "  - Base transformer encoder layer in [Attention Is All You Need](https://arxiv.org/abs/1706.03762)\n",
        "  - Parameters:\n",
        "    - d_model: the number of expected features of the input (required).\n",
        "\n",
        "    - nhead: the number of heads of the multiheadattention models (required).\n",
        "\n",
        "    - dim_feedforward: the dimension of the feedforward network model (default=2048).\n",
        "\n",
        "    - dropout: the dropout value (default=0.1).\n",
        "\n",
        "    - activation: the activation function of intermediate layer, relu or gelu (default=relu).\n",
        "\n",
        "- TransformerEncoder:\n",
        "  - TransformerEncoder is a stack of N transformer encoder layers\n",
        "  - Parameters:\n",
        "    - encoder_layer: an instance of the TransformerEncoderLayer() class (required).\n",
        "\n",
        "    - num_layers: the number of sub-encoder-layers in the encoder (required).\n",
        "\n",
        "    - norm: the layer normalization component (optional)."
      ]
    },
    {
      "cell_type": "code",
      "metadata": {
        "id": "SHX4eVj4tjtd"
      },
      "source": [
        "import torch\n",
        "import torch.nn as nn\n",
        "import torch.nn.functional as F\n",
        "\n",
        "from model import ConformerEncoder\n",
        "\n",
        "\n",
        "class Classifier(nn.Module):\n",
        "  def __init__(self, d_model=80, n_spks=600, dropout=0.1):\n",
        "    super().__init__()\n",
        "    # Project the dimension of features from that of input into d_model.\n",
        "    self.prenet = nn.Linear(40, d_model)\n",
        "    # TODO:\n",
        "    #   Change Transformer to Conformer.\n",
        "    #   https://arxiv.org/abs/2005.08100\n",
        "\n",
        "    self.conformer_encoder = ConformerEncoder(\n",
        "        d_model=d_model,\n",
        "        num_heads=8\n",
        "    )\n",
        "    self.bn = nn.BatchNorm1d(d_model)\n",
        "    #conformer session\n",
        "#    self.conformer_encoder = ConformerEncoder(\n",
        "#        input_dim=d_model,\n",
        "#        encoder_dim=1024,\n",
        "#        num_attention_heads=8\n",
        "#    )\n",
        "    #return outputs, output_lengths\n",
        "    #use outputs\n",
        "    #end conformer\n",
        "\n",
        "#    self.encoder_layer = nn.TransformerEncoderLayer(\n",
        "#      d_model=d_model, dim_feedforward=1024, nhead=8\n",
        "#    )\n",
        "    # self.encoder = nn.TransformerEncoder(self.encoder_layer, num_layers=2)\n",
        "\n",
        "    # Project the the dimension of features from d_model into speaker nums.\n",
        "    self.pred_layer = nn.Sequential(\n",
        "      nn.Linear(d_model, d_model),\n",
        "      nn.BatchNorm1d(d_model),\n",
        "      nn.ReLU(),\n",
        "      nn.Linear(d_model, n_spks),\n",
        "    )\n",
        "\n",
        "  def forward(self, mels):\n",
        "    \"\"\"\n",
        "    args:\n",
        "      mels: (batch size, length, 40)\n",
        "    return:\n",
        "      out: (batch size, n_spks)\n",
        "    \"\"\"\n",
        "    # out: (batch size, length, d_model)\n",
        "    out = self.prenet(mels)\n",
        "    # out: (length, batch size, d_model)\n",
        "    out = out.permute(1, 0, 2)\n",
        "#    out = out.permute(2, 0, 1)\n",
        "    # The encoder layer expect features in the shape of (length, batch size, d_model).\n",
        "#    out = self.encoder_layer(out)\n",
        "    out = self.conformer_encoder(out)\n",
        "    # out: (batch size, length, d_model)\n",
        "    out = out.transpose(0, 1)\n",
        "    # mean pooling\n",
        "    stats = out.mean(dim=1)\n",
        "\n",
        "    stats = self.bn(stats)\n",
        "    # out: (batch, n_spks)\n",
        "    out = self.pred_layer(stats)\n",
        "    return out\n"
      ],
      "execution_count": 15,
      "outputs": []
    },
    {
      "cell_type": "markdown",
      "metadata": {
        "id": "-__DolPGpvDZ"
      },
      "source": [
        "# Learning rate schedule\n",
        "- For transformer architecture, the design of learning rate schedule is different from that of CNN.\n",
        "- Previous works show that the warmup of learning rate is useful for training models with transformer architectures.\n",
        "- The warmup schedule\n",
        "  - Set learning rate to 0 in the beginning.\n",
        "  - The learning rate increases linearly from 0 to initial learning rate during warmup period."
      ]
    },
    {
      "cell_type": "code",
      "metadata": {
        "id": "K-0816BntqT9"
      },
      "source": [
        "import math\n",
        "\n",
        "import torch\n",
        "from torch.optim import Optimizer\n",
        "from torch.optim.lr_scheduler import LambdaLR\n",
        "\n",
        "\n",
        "def get_cosine_schedule_with_warmup(\n",
        "  optimizer: Optimizer,\n",
        "  num_warmup_steps: int,\n",
        "  num_training_steps: int,\n",
        "  num_cycles: float = 0.5,\n",
        "  last_epoch: int = -1,\n",
        "):\n",
        "  \"\"\"\n",
        "  Create a schedule with a learning rate that decreases following the values of the cosine function between the\n",
        "  initial lr set in the optimizer to 0, after a warmup period during which it increases linearly between 0 and the\n",
        "  initial lr set in the optimizer.\n",
        "\n",
        "  Args:\n",
        "    optimizer (:class:`~torch.optim.Optimizer`):\n",
        "      The optimizer for which to schedule the learning rate.\n",
        "    num_warmup_steps (:obj:`int`):\n",
        "      The number of steps for the warmup phase.\n",
        "    num_training_steps (:obj:`int`):\n",
        "      The total number of training steps.\n",
        "    num_cycles (:obj:`float`, `optional`, defaults to 0.5):\n",
        "      The number of waves in the cosine schedule (the defaults is to just decrease from the max value to 0\n",
        "      following a half-cosine).\n",
        "    last_epoch (:obj:`int`, `optional`, defaults to -1):\n",
        "      The index of the last epoch when resuming training.\n",
        "\n",
        "  Return:\n",
        "    :obj:`torch.optim.lr_scheduler.LambdaLR` with the appropriate schedule.\n",
        "  \"\"\"\n",
        "\n",
        "  def lr_lambda(current_step):\n",
        "    # Warmup\n",
        "    if current_step < num_warmup_steps:\n",
        "      return float(current_step) / float(max(1, num_warmup_steps))\n",
        "    # decadence\n",
        "    progress = float(current_step - num_warmup_steps) / float(\n",
        "      max(1, num_training_steps - num_warmup_steps)\n",
        "    )\n",
        "    return max(\n",
        "      0.0, 0.5 * (1.0 + math.cos(math.pi * float(num_cycles) * 2.0 * progress))\n",
        "    )\n",
        "\n",
        "  return LambdaLR(optimizer, lr_lambda, last_epoch)\n"
      ],
      "execution_count": 16,
      "outputs": []
    },
    {
      "cell_type": "markdown",
      "metadata": {
        "id": "IP03FFo9K8DS"
      },
      "source": [
        "# Model Function\n",
        "- Model forward function."
      ]
    },
    {
      "cell_type": "code",
      "metadata": {
        "id": "fohaLEFJK9-t"
      },
      "source": [
        "import torch\n",
        "\n",
        "\n",
        "def model_fn(batch, model, criterion, device):\n",
        "  \"\"\"Forward a batch through the model.\"\"\"\n",
        "\n",
        "  mels, labels = batch\n",
        "  mels = mels.to(device)\n",
        "  labels = labels.to(device)\n",
        "\n",
        "  outs = model(mels)\n",
        "\n",
        "  loss = criterion(outs, labels)\n",
        "\n",
        "  # Get the speaker id with highest probability.\n",
        "  preds = outs.argmax(1)\n",
        "  # Compute accuracy.\n",
        "  accuracy = torch.mean((preds == labels).float())\n",
        "\n",
        "  return loss, accuracy\n"
      ],
      "execution_count": 17,
      "outputs": []
    },
    {
      "cell_type": "markdown",
      "metadata": {
        "id": "F7cg-YrzLQcf"
      },
      "source": [
        "# Validate\n",
        "- Calculate accuracy of the validation set."
      ]
    },
    {
      "cell_type": "code",
      "metadata": {
        "id": "mD-_p6nWLO2L"
      },
      "source": [
        "from tqdm import tqdm\n",
        "import torch\n",
        "\n",
        "\n",
        "def valid(dataloader, model, criterion, device): \n",
        "  \"\"\"Validate on validation set.\"\"\"\n",
        "\n",
        "  model.eval()\n",
        "  running_loss = 0.0\n",
        "  running_accuracy = 0.0\n",
        "  pbar = tqdm(total=len(dataloader.dataset), ncols=0, desc=\"Valid\", unit=\" uttr\")\n",
        "\n",
        "  for i, batch in enumerate(dataloader):\n",
        "    with torch.no_grad():\n",
        "      loss, accuracy = model_fn(batch, model, criterion, device)\n",
        "      running_loss += loss.item()\n",
        "      running_accuracy += accuracy.item()\n",
        "\n",
        "    pbar.update(dataloader.batch_size)\n",
        "    pbar.set_postfix(\n",
        "      loss=f\"{running_loss / (i+1):.2f}\",\n",
        "      accuracy=f\"{running_accuracy / (i+1):.2f}\",\n",
        "    )\n",
        "\n",
        "  pbar.close()\n",
        "  model.train()\n",
        "\n",
        "  return running_accuracy / len(dataloader)\n"
      ],
      "execution_count": 18,
      "outputs": []
    },
    {
      "cell_type": "markdown",
      "metadata": {
        "id": "noHXyal5p1W5"
      },
      "source": [
        "# Main function"
      ]
    },
    {
      "cell_type": "code",
      "metadata": {
        "id": "chRQE7oYtw62",
        "colab": {
          "base_uri": "https://localhost:8080/"
        },
        "outputId": "c08495a7-fbf3-4187-cff8-56d630e093ed"
      },
      "source": [
        "from tqdm import tqdm\n",
        "\n",
        "import torch\n",
        "import torch.nn as nn\n",
        "from torch.optim import AdamW\n",
        "from torch.utils.data import DataLoader, random_split\n",
        "\n",
        "\n",
        "def parse_args():\n",
        "  \"\"\"arguments\"\"\"\n",
        "  config = {\n",
        "    \"data_dir\": \"./Dataset\",\n",
        "    \"save_path\": \"model.ckpt\",\n",
        "    \"batch_size\": 32,\n",
        "    \"n_workers\": 8,\n",
        "    \"valid_steps\": 2000,\n",
        "    \"warmup_steps\": 1000,\n",
        "    \"save_steps\": 10000,\n",
        "    \"total_steps\": 120000,\n",
        "  }\n",
        "\n",
        "  return config\n",
        "\n",
        "\n",
        "def main(\n",
        "  data_dir,\n",
        "  save_path,\n",
        "  batch_size,\n",
        "  n_workers,\n",
        "  valid_steps,\n",
        "  warmup_steps,\n",
        "  total_steps,\n",
        "  save_steps,\n",
        "):\n",
        "  \"\"\"Main function.\"\"\"\n",
        "  device = torch.device(\"cuda\" if torch.cuda.is_available() else \"cpu\")\n",
        "  print(f\"[Info]: Use {device} now!\")\n",
        "\n",
        "  train_loader, valid_loader, speaker_num = get_dataloader(data_dir, batch_size, n_workers)\n",
        "  train_iterator = iter(train_loader)\n",
        "  print(f\"[Info]: Finish loading data!\",flush = True)\n",
        "\n",
        "  model = Classifier(n_spks=speaker_num).to(device)\n",
        "  criterion = nn.CrossEntropyLoss()\n",
        "  optimizer = AdamW(model.parameters(), lr=1e-3, weight_decay=0.01)   #v1\n",
        "  scheduler = get_cosine_schedule_with_warmup(optimizer, warmup_steps, total_steps)\n",
        "  print(f\"[Info]: Finish creating model!\",flush = True)\n",
        "\n",
        "  best_accuracy = -1.0\n",
        "  best_state_dict = None\n",
        "\n",
        "  pbar = tqdm(total=valid_steps, ncols=0, desc=\"Train\", unit=\" step\")\n",
        "\n",
        "  for step in range(total_steps):\n",
        "    # Get data\n",
        "    try:\n",
        "      batch = next(train_iterator)\n",
        "    except StopIteration:\n",
        "      train_iterator = iter(train_loader)\n",
        "      batch = next(train_iterator)\n",
        "\n",
        "    loss, accuracy = model_fn(batch, model, criterion, device)\n",
        "    batch_loss = loss.item()\n",
        "    batch_accuracy = accuracy.item()\n",
        "\n",
        "    # Updata model\n",
        "    loss.backward()\n",
        "    optimizer.step()\n",
        "    scheduler.step()\n",
        "    optimizer.zero_grad()\n",
        "    \n",
        "    # Log\n",
        "    pbar.update()\n",
        "    pbar.set_postfix(\n",
        "      loss=f\"{batch_loss:.2f}\",\n",
        "      accuracy=f\"{batch_accuracy:.2f}\",\n",
        "      step=step + 1,\n",
        "    )\n",
        "\n",
        "    # Do validation\n",
        "    if (step + 1) % valid_steps == 0:\n",
        "      pbar.close()\n",
        "\n",
        "      valid_accuracy = valid(valid_loader, model, criterion, device)\n",
        "\n",
        "      # keep the best model\n",
        "      if valid_accuracy > best_accuracy:\n",
        "        best_accuracy = valid_accuracy\n",
        "        best_state_dict = model.state_dict()\n",
        "\n",
        "      pbar = tqdm(total=valid_steps, ncols=0, desc=\"Train\", unit=\" step\")\n",
        "\n",
        "    # Save the best model so far.\n",
        "    if (step + 1) % save_steps == 0 and best_state_dict is not None:\n",
        "      torch.save(best_state_dict, save_path)\n",
        "      pbar.write(f\"Step {step + 1}, best model saved. (accuracy={best_accuracy:.4f})\")\n",
        "\n",
        "  pbar.close()\n",
        "\n",
        "\n",
        "if __name__ == \"__main__\":\n",
        "  main(**parse_args())\n",
        "\n",
        "  #5:43+0:21\n",
        "  #3:30+0:19\n"
      ],
      "execution_count": 19,
      "outputs": [
        {
          "output_type": "stream",
          "name": "stderr",
          "text": [
            "\rTrain:  10% 196/2000 [01:04<09:54,  3.04 step/s, accuracy=0.00, loss=6.36, step=196]"
          ]
        },
        {
          "output_type": "stream",
          "name": "stdout",
          "text": [
            "[Info]: Use cuda now!\n"
          ]
        },
        {
          "output_type": "stream",
          "name": "stderr",
          "text": [
            "\n",
            "/usr/local/lib/python3.7/dist-packages/torch/utils/data/dataloader.py:481: UserWarning: This DataLoader will create 8 worker processes in total. Our suggested max number of worker in current system is 2, which is smaller than what this DataLoader is going to create. Please be aware that excessive worker creation might get DataLoader running slow or even freeze, lower the worker number to avoid potential slowness/freeze if necessary.\n",
            "  cpuset_checked))\n"
          ]
        },
        {
          "output_type": "stream",
          "name": "stdout",
          "text": [
            "[Info]: Finish loading data!\n",
            "[Info]: Finish creating model!\n"
          ]
        },
        {
          "output_type": "stream",
          "name": "stderr",
          "text": [
            "Train: 100% 2000/2000 [03:49<00:00,  8.71 step/s, accuracy=0.12, loss=4.16, step=2000]\n",
            "Valid: 100% 6944/6944 [00:21<00:00, 326.25 uttr/s, accuracy=0.16, loss=4.20]\n",
            "Train: 100% 2000/2000 [03:45<00:00,  8.88 step/s, accuracy=0.41, loss=3.07, step=4000]\n",
            "Valid: 100% 6944/6944 [00:21<00:00, 326.97 uttr/s, accuracy=0.33, loss=3.12]\n",
            "Train: 100% 2000/2000 [03:43<00:00,  8.93 step/s, accuracy=0.34, loss=2.93, step=6000]\n",
            "Valid: 100% 6944/6944 [00:21<00:00, 327.90 uttr/s, accuracy=0.37, loss=2.89]\n",
            "Train: 100% 2000/2000 [03:44<00:00,  8.90 step/s, accuracy=0.41, loss=3.10, step=8000]\n",
            "Valid: 100% 6944/6944 [00:21<00:00, 327.62 uttr/s, accuracy=0.43, loss=2.54]\n",
            "Train: 100% 2000/2000 [03:42<00:00,  8.97 step/s, accuracy=0.56, loss=2.03, step=1e+4]\n",
            "Valid: 100% 6944/6944 [00:21<00:00, 327.16 uttr/s, accuracy=0.46, loss=2.43]\n",
            "\n",
            "Train:   0% 0/2000 [00:00<?, ? step/s]\n",
            "Train:   0% 1/2000 [00:00<07:58,  4.18 step/s, accuracy=0.38, loss=2.37, step=1e+4]"
          ]
        },
        {
          "output_type": "stream",
          "name": "stdout",
          "text": [
            "Step 10000, best model saved. (accuracy=0.4590)\n"
          ]
        },
        {
          "output_type": "stream",
          "name": "stderr",
          "text": [
            "Train: 100% 2000/2000 [03:43<00:00,  8.95 step/s, accuracy=0.69, loss=1.52, step=12000]\n",
            "Valid: 100% 6944/6944 [00:21<00:00, 327.67 uttr/s, accuracy=0.49, loss=2.31]\n",
            "Train: 100% 2000/2000 [03:43<00:00,  8.94 step/s, accuracy=0.47, loss=2.36, step=14000]\n",
            "Valid: 100% 6944/6944 [00:21<00:00, 326.75 uttr/s, accuracy=0.49, loss=2.35]\n",
            "Train: 100% 2000/2000 [03:44<00:00,  8.90 step/s, accuracy=0.66, loss=1.23, step=16000]\n",
            "Valid: 100% 6944/6944 [00:21<00:00, 327.24 uttr/s, accuracy=0.57, loss=1.87]\n",
            "Train: 100% 2000/2000 [03:44<00:00,  8.93 step/s, accuracy=0.56, loss=1.77, step=18000]\n",
            "Valid: 100% 6944/6944 [00:21<00:00, 326.63 uttr/s, accuracy=0.56, loss=1.95]\n",
            "Train: 100% 2000/2000 [03:43<00:00,  8.94 step/s, accuracy=0.62, loss=2.04, step=2e+4]\n",
            "Valid: 100% 6944/6944 [00:21<00:00, 326.71 uttr/s, accuracy=0.59, loss=1.81]\n",
            "\n",
            "Train:   0% 0/2000 [00:00<?, ? step/s]\n",
            "Train:   0% 1/2000 [00:00<08:08,  4.09 step/s, accuracy=0.62, loss=1.30, step=2e+4]"
          ]
        },
        {
          "output_type": "stream",
          "name": "stdout",
          "text": [
            "Step 20000, best model saved. (accuracy=0.5890)\n"
          ]
        },
        {
          "output_type": "stream",
          "name": "stderr",
          "text": [
            "Train: 100% 2000/2000 [03:44<00:00,  8.92 step/s, accuracy=0.59, loss=1.48, step=22000]\n",
            "Valid: 100% 6944/6944 [00:21<00:00, 327.90 uttr/s, accuracy=0.63, loss=1.60]\n",
            "Train: 100% 2000/2000 [03:44<00:00,  8.92 step/s, accuracy=0.75, loss=0.93, step=24000]\n",
            "Valid: 100% 6944/6944 [00:21<00:00, 328.02 uttr/s, accuracy=0.62, loss=1.66]\n",
            "Train: 100% 2000/2000 [03:43<00:00,  8.93 step/s, accuracy=0.78, loss=0.98, step=26000]\n",
            "Valid: 100% 6944/6944 [00:21<00:00, 326.80 uttr/s, accuracy=0.64, loss=1.56]\n",
            "Train: 100% 2000/2000 [03:44<00:00,  8.90 step/s, accuracy=0.72, loss=1.19, step=28000]\n",
            "Valid: 100% 6944/6944 [00:21<00:00, 328.69 uttr/s, accuracy=0.63, loss=1.60]\n",
            "Train: 100% 2000/2000 [03:43<00:00,  8.95 step/s, accuracy=0.78, loss=1.09, step=3e+4]\n",
            "Valid: 100% 6944/6944 [00:21<00:00, 327.15 uttr/s, accuracy=0.68, loss=1.40]\n",
            "\n",
            "Train:   0% 0/2000 [00:00<?, ? step/s]\n",
            "Train:   0% 1/2000 [00:00<07:49,  4.26 step/s, accuracy=0.69, loss=0.97, step=3e+4]"
          ]
        },
        {
          "output_type": "stream",
          "name": "stdout",
          "text": [
            "Step 30000, best model saved. (accuracy=0.6812)\n"
          ]
        },
        {
          "output_type": "stream",
          "name": "stderr",
          "text": [
            "Train: 100% 2000/2000 [03:44<00:00,  8.92 step/s, accuracy=0.72, loss=1.10, step=32000]\n",
            "Valid: 100% 6944/6944 [00:21<00:00, 321.23 uttr/s, accuracy=0.67, loss=1.44]\n",
            "Train: 100% 2000/2000 [03:42<00:00,  8.99 step/s, accuracy=0.72, loss=1.06, step=34000]\n",
            "Valid: 100% 6944/6944 [00:21<00:00, 327.73 uttr/s, accuracy=0.67, loss=1.41]\n",
            "Train: 100% 2000/2000 [03:42<00:00,  9.01 step/s, accuracy=0.75, loss=0.88, step=36000]\n",
            "Valid: 100% 6944/6944 [00:21<00:00, 326.86 uttr/s, accuracy=0.69, loss=1.30]\n",
            "Train: 100% 2000/2000 [03:43<00:00,  8.94 step/s, accuracy=0.78, loss=0.92, step=38000]\n",
            "Valid: 100% 6944/6944 [00:21<00:00, 325.47 uttr/s, accuracy=0.68, loss=1.39]\n",
            "Train: 100% 2000/2000 [03:43<00:00,  8.96 step/s, accuracy=0.88, loss=0.72, step=4e+4]\n",
            "Valid: 100% 6944/6944 [00:21<00:00, 326.70 uttr/s, accuracy=0.70, loss=1.28]\n",
            "\n",
            "Train:   0% 0/2000 [00:00<?, ? step/s]\n",
            "Train:   0% 1/2000 [00:00<07:30,  4.44 step/s, accuracy=0.69, loss=1.20, step=4e+4]"
          ]
        },
        {
          "output_type": "stream",
          "name": "stdout",
          "text": [
            "Step 40000, best model saved. (accuracy=0.7009)\n"
          ]
        },
        {
          "output_type": "stream",
          "name": "stderr",
          "text": [
            "Train: 100% 2000/2000 [03:44<00:00,  8.92 step/s, accuracy=0.78, loss=0.69, step=42000]\n",
            "Valid: 100% 6944/6944 [00:21<00:00, 327.32 uttr/s, accuracy=0.72, loss=1.23]\n",
            "Train: 100% 2000/2000 [03:42<00:00,  8.99 step/s, accuracy=0.81, loss=1.28, step=44000]\n",
            "Valid: 100% 6944/6944 [00:20<00:00, 342.58 uttr/s, accuracy=0.71, loss=1.27]\n",
            "Train: 100% 2000/2000 [03:42<00:00,  8.98 step/s, accuracy=0.75, loss=1.27, step=46000]\n",
            "Valid: 100% 6944/6944 [00:19<00:00, 349.56 uttr/s, accuracy=0.72, loss=1.21]\n",
            "Train: 100% 2000/2000 [03:43<00:00,  8.96 step/s, accuracy=0.56, loss=1.34, step=48000]\n",
            "Valid: 100% 6944/6944 [00:19<00:00, 353.91 uttr/s, accuracy=0.73, loss=1.21]\n",
            "Train: 100% 2000/2000 [03:43<00:00,  8.94 step/s, accuracy=0.81, loss=0.73, step=5e+4]\n",
            "Valid: 100% 6944/6944 [00:19<00:00, 351.89 uttr/s, accuracy=0.72, loss=1.22]\n",
            "\n",
            "Train:   0% 0/2000 [00:00<?, ? step/s]\n",
            "Train:   0% 1/2000 [00:00<07:34,  4.40 step/s, accuracy=0.69, loss=1.44, step=5e+4]"
          ]
        },
        {
          "output_type": "stream",
          "name": "stdout",
          "text": [
            "Step 50000, best model saved. (accuracy=0.7281)\n"
          ]
        },
        {
          "output_type": "stream",
          "name": "stderr",
          "text": [
            "Train: 100% 2000/2000 [03:41<00:00,  9.01 step/s, accuracy=0.75, loss=0.71, step=52000]\n",
            "Valid: 100% 6944/6944 [00:20<00:00, 343.88 uttr/s, accuracy=0.73, loss=1.19]\n",
            "Train: 100% 2000/2000 [03:42<00:00,  8.99 step/s, accuracy=0.84, loss=0.38, step=54000]\n",
            "Valid: 100% 6944/6944 [00:21<00:00, 330.58 uttr/s, accuracy=0.74, loss=1.13]\n",
            "Train: 100% 2000/2000 [03:45<00:00,  8.89 step/s, accuracy=0.81, loss=0.71, step=56000]\n",
            "Valid: 100% 6944/6944 [00:21<00:00, 326.30 uttr/s, accuracy=0.75, loss=1.09]\n",
            "Train: 100% 2000/2000 [03:43<00:00,  8.94 step/s, accuracy=0.69, loss=1.34, step=58000]\n",
            "Valid: 100% 6944/6944 [00:21<00:00, 326.43 uttr/s, accuracy=0.76, loss=1.02]\n",
            "Train: 100% 2000/2000 [03:44<00:00,  8.93 step/s, accuracy=0.72, loss=0.94, step=6e+4]\n",
            "Valid: 100% 6944/6944 [00:21<00:00, 328.19 uttr/s, accuracy=0.77, loss=0.99]\n",
            "\n",
            "Train:   0% 0/2000 [00:00<?, ? step/s]\n",
            "Train:   0% 1/2000 [00:00<08:27,  3.94 step/s, accuracy=0.84, loss=0.66, step=6e+4]"
          ]
        },
        {
          "output_type": "stream",
          "name": "stdout",
          "text": [
            "Step 60000, best model saved. (accuracy=0.7664)\n"
          ]
        },
        {
          "output_type": "stream",
          "name": "stderr",
          "text": [
            "Train: 100% 2000/2000 [03:45<00:00,  8.88 step/s, accuracy=0.72, loss=1.31, step=62000]\n",
            "Valid: 100% 6944/6944 [00:21<00:00, 326.62 uttr/s, accuracy=0.76, loss=1.05]\n",
            "Train: 100% 2000/2000 [03:43<00:00,  8.94 step/s, accuracy=0.84, loss=0.62, step=64000]\n",
            "Valid: 100% 6944/6944 [00:21<00:00, 326.83 uttr/s, accuracy=0.77, loss=1.02]\n",
            "Train: 100% 2000/2000 [03:43<00:00,  8.95 step/s, accuracy=0.78, loss=0.94, step=66000]\n",
            "Valid: 100% 6944/6944 [00:21<00:00, 327.53 uttr/s, accuracy=0.77, loss=0.99]\n",
            "Train: 100% 2000/2000 [03:42<00:00,  8.99 step/s, accuracy=0.88, loss=0.55, step=68000]\n",
            "Valid: 100% 6944/6944 [00:21<00:00, 326.52 uttr/s, accuracy=0.78, loss=0.95]\n",
            "Train: 100% 2000/2000 [03:43<00:00,  8.97 step/s, accuracy=0.94, loss=0.32, step=7e+4]\n",
            "Valid: 100% 6944/6944 [00:21<00:00, 327.48 uttr/s, accuracy=0.78, loss=0.97]\n",
            "\n",
            "Train:   0% 0/2000 [00:00<?, ? step/s]\n",
            "Train:   0% 1/2000 [00:00<07:34,  4.40 step/s, accuracy=0.91, loss=0.39, step=7e+4]"
          ]
        },
        {
          "output_type": "stream",
          "name": "stdout",
          "text": [
            "Step 70000, best model saved. (accuracy=0.7769)\n"
          ]
        },
        {
          "output_type": "stream",
          "name": "stderr",
          "text": [
            "Train: 100% 2000/2000 [03:43<00:00,  8.96 step/s, accuracy=0.91, loss=0.54, step=72000]\n",
            "Valid: 100% 6944/6944 [00:21<00:00, 326.76 uttr/s, accuracy=0.79, loss=0.92]\n",
            "Train: 100% 2000/2000 [03:40<00:00,  9.06 step/s, accuracy=0.91, loss=0.56, step=74000]\n",
            "Valid: 100% 6944/6944 [00:21<00:00, 327.34 uttr/s, accuracy=0.80, loss=0.90]\n",
            "Train: 100% 2000/2000 [03:41<00:00,  9.03 step/s, accuracy=0.97, loss=0.42, step=76000]\n",
            "Valid: 100% 6944/6944 [00:21<00:00, 326.62 uttr/s, accuracy=0.78, loss=0.94]\n",
            "Train: 100% 2000/2000 [03:40<00:00,  9.07 step/s, accuracy=0.88, loss=0.57, step=78000]\n",
            "Valid: 100% 6944/6944 [00:21<00:00, 327.25 uttr/s, accuracy=0.81, loss=0.86]\n",
            "Train: 100% 2000/2000 [03:43<00:00,  8.93 step/s, accuracy=0.88, loss=0.48, step=8e+4]\n",
            "Valid: 100% 6944/6944 [00:21<00:00, 325.60 uttr/s, accuracy=0.80, loss=0.87]\n",
            "\n",
            "Train:   0% 0/2000 [00:00<?, ? step/s]\n",
            "Train:   0% 1/2000 [00:00<07:49,  4.26 step/s, accuracy=0.94, loss=0.40, step=8e+4]"
          ]
        },
        {
          "output_type": "stream",
          "name": "stdout",
          "text": [
            "Step 80000, best model saved. (accuracy=0.8065)\n"
          ]
        },
        {
          "output_type": "stream",
          "name": "stderr",
          "text": [
            "Train: 100% 2000/2000 [03:44<00:00,  8.91 step/s, accuracy=0.88, loss=0.46, step=82000]\n",
            "Valid: 100% 6944/6944 [00:21<00:00, 320.09 uttr/s, accuracy=0.80, loss=0.86]\n",
            "Train: 100% 2000/2000 [03:46<00:00,  8.85 step/s, accuracy=0.84, loss=0.53, step=84000]\n",
            "Valid: 100% 6944/6944 [00:21<00:00, 321.21 uttr/s, accuracy=0.81, loss=0.82]\n",
            "Train: 100% 2000/2000 [03:45<00:00,  8.87 step/s, accuracy=0.75, loss=0.90, step=86000]\n",
            "Valid: 100% 6944/6944 [00:21<00:00, 326.57 uttr/s, accuracy=0.81, loss=0.84]\n",
            "Train: 100% 2000/2000 [03:45<00:00,  8.87 step/s, accuracy=0.81, loss=0.42, step=88000]\n",
            "Valid: 100% 6944/6944 [00:21<00:00, 326.70 uttr/s, accuracy=0.81, loss=0.80]\n",
            "Train: 100% 2000/2000 [03:45<00:00,  8.86 step/s, accuracy=0.97, loss=0.47, step=9e+4]\n",
            "Valid: 100% 6944/6944 [00:21<00:00, 326.49 uttr/s, accuracy=0.82, loss=0.82]\n",
            "\n",
            "Train:   0% 0/2000 [00:00<?, ? step/s]\n",
            "Train:   0% 1/2000 [00:00<07:35,  4.39 step/s, accuracy=0.91, loss=0.25, step=9e+4]"
          ]
        },
        {
          "output_type": "stream",
          "name": "stdout",
          "text": [
            "Step 90000, best model saved. (accuracy=0.8162)\n"
          ]
        },
        {
          "output_type": "stream",
          "name": "stderr",
          "text": [
            "Train: 100% 2000/2000 [03:45<00:00,  8.88 step/s, accuracy=0.91, loss=0.31, step=92000]\n",
            "Valid: 100% 6944/6944 [00:21<00:00, 328.69 uttr/s, accuracy=0.82, loss=0.78]\n",
            "Train: 100% 2000/2000 [03:43<00:00,  8.95 step/s, accuracy=0.94, loss=0.35, step=94000]\n",
            "Valid: 100% 6944/6944 [00:21<00:00, 328.00 uttr/s, accuracy=0.82, loss=0.78]\n",
            "Train: 100% 2000/2000 [03:43<00:00,  8.94 step/s, accuracy=0.88, loss=0.41, step=96000]\n",
            "Valid: 100% 6944/6944 [00:21<00:00, 327.97 uttr/s, accuracy=0.83, loss=0.80]\n",
            "Train: 100% 2000/2000 [03:42<00:00,  9.01 step/s, accuracy=0.88, loss=0.51, step=98000]\n",
            "Valid: 100% 6944/6944 [00:21<00:00, 326.29 uttr/s, accuracy=0.83, loss=0.78]\n",
            "Train: 100% 2000/2000 [03:41<00:00,  9.04 step/s, accuracy=0.91, loss=0.42, step=1e+5]\n",
            "Valid: 100% 6944/6944 [00:21<00:00, 327.12 uttr/s, accuracy=0.83, loss=0.75]\n",
            "\n",
            "Train:   0% 0/2000 [00:00<?, ? step/s]\n",
            "Train:   0% 1/2000 [00:00<07:27,  4.47 step/s, accuracy=0.88, loss=0.58, step=1e+5]"
          ]
        },
        {
          "output_type": "stream",
          "name": "stdout",
          "text": [
            "Step 100000, best model saved. (accuracy=0.8332)\n"
          ]
        },
        {
          "output_type": "stream",
          "name": "stderr",
          "text": [
            "Train: 100% 2000/2000 [03:42<00:00,  9.00 step/s, accuracy=0.91, loss=0.44, step=102000]\n",
            "Valid: 100% 6944/6944 [00:21<00:00, 326.47 uttr/s, accuracy=0.83, loss=0.76]\n",
            "Train: 100% 2000/2000 [03:42<00:00,  8.98 step/s, accuracy=0.88, loss=0.36, step=104000]\n",
            "Valid: 100% 6944/6944 [00:21<00:00, 326.54 uttr/s, accuracy=0.83, loss=0.77]\n",
            "Train: 100% 2000/2000 [03:43<00:00,  8.96 step/s, accuracy=0.84, loss=0.46, step=106000]\n",
            "Valid: 100% 6944/6944 [00:21<00:00, 326.79 uttr/s, accuracy=0.83, loss=0.76]\n",
            "Train: 100% 2000/2000 [03:42<00:00,  8.97 step/s, accuracy=0.94, loss=0.25, step=108000]\n",
            "Valid: 100% 6944/6944 [00:21<00:00, 325.81 uttr/s, accuracy=0.83, loss=0.73]\n",
            "Train: 100% 2000/2000 [03:41<00:00,  9.02 step/s, accuracy=0.88, loss=0.43, step=110000]\n",
            "Valid: 100% 6944/6944 [00:21<00:00, 326.29 uttr/s, accuracy=0.83, loss=0.75]\n",
            "\n",
            "Train:   0% 0/2000 [00:00<?, ? step/s]\n",
            "Train:   0% 1/2000 [00:00<06:57,  4.79 step/s, accuracy=0.84, loss=0.45, step=110001]"
          ]
        },
        {
          "output_type": "stream",
          "name": "stdout",
          "text": [
            "Step 110000, best model saved. (accuracy=0.8335)\n"
          ]
        },
        {
          "output_type": "stream",
          "name": "stderr",
          "text": [
            "Train: 100% 2000/2000 [03:40<00:00,  9.08 step/s, accuracy=0.97, loss=0.19, step=112000]\n",
            "Valid: 100% 6944/6944 [00:21<00:00, 327.51 uttr/s, accuracy=0.83, loss=0.74]\n",
            "Train: 100% 2000/2000 [03:41<00:00,  9.01 step/s, accuracy=0.88, loss=0.49, step=114000]\n",
            "Valid: 100% 6944/6944 [00:21<00:00, 326.46 uttr/s, accuracy=0.83, loss=0.74]\n",
            "Train: 100% 2000/2000 [03:42<00:00,  8.98 step/s, accuracy=0.97, loss=0.14, step=116000]\n",
            "Valid: 100% 6944/6944 [00:21<00:00, 327.47 uttr/s, accuracy=0.83, loss=0.75]\n",
            "Train: 100% 2000/2000 [03:41<00:00,  9.05 step/s, accuracy=0.97, loss=0.25, step=118000]\n",
            "Valid: 100% 6944/6944 [00:21<00:00, 326.78 uttr/s, accuracy=0.84, loss=0.73]\n",
            "Train: 100% 2000/2000 [03:42<00:00,  9.00 step/s, accuracy=0.84, loss=0.37, step=120000]\n",
            "Valid: 100% 6944/6944 [00:21<00:00, 327.57 uttr/s, accuracy=0.83, loss=0.75]\n",
            "\n",
            "Train:   0% 0/2000 [00:00<?, ? step/s]\n",
            "Train:   0% 0/2000 [00:00<?, ? step/s]\n"
          ]
        },
        {
          "output_type": "stream",
          "name": "stdout",
          "text": [
            "Step 120000, best model saved. (accuracy=0.8387)\n"
          ]
        }
      ]
    },
    {
      "cell_type": "markdown",
      "metadata": {
        "id": "0R2rx3AyHpQ-"
      },
      "source": [
        "# Inference"
      ]
    },
    {
      "cell_type": "markdown",
      "metadata": {
        "id": "pSuI3WY9Fz78"
      },
      "source": [
        "## Dataset of inference"
      ]
    },
    {
      "cell_type": "code",
      "metadata": {
        "id": "4evns0055Dsx"
      },
      "source": [
        "import os\n",
        "import json\n",
        "import torch\n",
        "from pathlib import Path\n",
        "from torch.utils.data import Dataset\n",
        "\n",
        "\n",
        "class InferenceDataset(Dataset):\n",
        "  def __init__(self, data_dir):\n",
        "    testdata_path = Path(data_dir) / \"testdata.json\"\n",
        "    metadata = json.load(testdata_path.open())\n",
        "    self.data_dir = data_dir\n",
        "    self.data = metadata[\"utterances\"]\n",
        "\n",
        "  def __len__(self):\n",
        "    return len(self.data)\n",
        "\n",
        "  def __getitem__(self, index):\n",
        "    utterance = self.data[index]\n",
        "    feat_path = utterance[\"feature_path\"]\n",
        "    mel = torch.load(os.path.join(self.data_dir, feat_path))\n",
        "\n",
        "    return feat_path, mel\n",
        "\n",
        "\n",
        "def inference_collate_batch(batch):\n",
        "  \"\"\"Collate a batch of data.\"\"\"\n",
        "  feat_paths, mels = zip(*batch)\n",
        "\n",
        "  return feat_paths, torch.stack(mels)\n"
      ],
      "execution_count": 20,
      "outputs": []
    },
    {
      "cell_type": "markdown",
      "metadata": {
        "id": "oAinHBG1GIWv"
      },
      "source": [
        "## Main funcrion of Inference"
      ]
    },
    {
      "cell_type": "code",
      "metadata": {
        "id": "yQaTt7VDHoRI",
        "colab": {
          "base_uri": "https://localhost:8080/",
          "height": 154,
          "referenced_widgets": [
            "0aeea4049b8e4439b276412eb73814cc",
            "08bf3a6dccf84c3bbe4a99c23d7f1f1d",
            "8cdbaa1400994a32b31a93311e3aa5ad",
            "0834e2bc9cb54c5385824bc6b548d60f",
            "ae04002f2a81449b8c62170556192e1c",
            "bbec0652a6a44a04800cee6e51c8b3f7",
            "863ca812755f498d897da8e3ad96c19d",
            "926f31642d0a4448aed5696e9f52a647",
            "719bc1a8b990484f914bb4631e99ffcd",
            "b8e6399e414944f4b612fedaea73774f",
            "13bb9011338b4940849c9867ba2312f3"
          ]
        },
        "outputId": "2958d738-d9a2-4103-c485-0e41a9b8ee71"
      },
      "source": [
        "import json\n",
        "import csv\n",
        "from pathlib import Path\n",
        "from tqdm.notebook import tqdm\n",
        "\n",
        "import torch\n",
        "from torch.utils.data import DataLoader\n",
        "\n",
        "def parse_args():\n",
        "  \"\"\"arguments\"\"\"\n",
        "  config = {\n",
        "    \"data_dir\": \"./Dataset\",\n",
        "    \"model_path\": \"./model.ckpt\",\n",
        "    \"output_path\": \"./output.csv\",\n",
        "  }\n",
        "\n",
        "  return config\n",
        "\n",
        "\n",
        "def main(\n",
        "  data_dir,\n",
        "  model_path,\n",
        "  output_path,\n",
        "):\n",
        "  \"\"\"Main function.\"\"\"\n",
        "  device = torch.device(\"cuda\" if torch.cuda.is_available() else \"cpu\")\n",
        "  print(f\"[Info]: Use {device} now!\")\n",
        "\n",
        "  mapping_path = Path(data_dir) / \"mapping.json\"\n",
        "  mapping = json.load(mapping_path.open())\n",
        "\n",
        "  dataset = InferenceDataset(data_dir)\n",
        "  dataloader = DataLoader(\n",
        "    dataset,\n",
        "    batch_size=1,\n",
        "    shuffle=False,\n",
        "    drop_last=False,\n",
        "    num_workers=8,\n",
        "    collate_fn=inference_collate_batch,\n",
        "  )\n",
        "  print(f\"[Info]: Finish loading data!\",flush = True)\n",
        "\n",
        "  speaker_num = len(mapping[\"id2speaker\"])\n",
        "  model = Classifier(n_spks=speaker_num).to(device)\n",
        "  model.load_state_dict(torch.load(model_path))\n",
        "  model.eval()\n",
        "  print(f\"[Info]: Finish creating model!\",flush = True)\n",
        "\n",
        "  results = [[\"Id\", \"Category\"]]\n",
        "  for feat_paths, mels in tqdm(dataloader):\n",
        "    with torch.no_grad():\n",
        "      mels = mels.to(device)\n",
        "      outs = model(mels)\n",
        "      preds = outs.argmax(1).cpu().numpy()\n",
        "      for feat_path, pred in zip(feat_paths, preds):\n",
        "        results.append([feat_path, mapping[\"id2speaker\"][str(pred)]])\n",
        "  \n",
        "  with open(output_path, 'w', newline='') as csvfile:\n",
        "    writer = csv.writer(csvfile)\n",
        "    writer.writerows(results)\n",
        "\n",
        "\n",
        "if __name__ == \"__main__\":\n",
        "  main(**parse_args())\n"
      ],
      "execution_count": 21,
      "outputs": [
        {
          "output_type": "stream",
          "name": "stdout",
          "text": [
            "[Info]: Use cuda now!\n",
            "[Info]: Finish loading data!\n"
          ]
        },
        {
          "output_type": "stream",
          "name": "stderr",
          "text": [
            "/usr/local/lib/python3.7/dist-packages/torch/utils/data/dataloader.py:481: UserWarning: This DataLoader will create 8 worker processes in total. Our suggested max number of worker in current system is 2, which is smaller than what this DataLoader is going to create. Please be aware that excessive worker creation might get DataLoader running slow or even freeze, lower the worker number to avoid potential slowness/freeze if necessary.\n",
            "  cpuset_checked))\n"
          ]
        },
        {
          "output_type": "stream",
          "name": "stdout",
          "text": [
            "[Info]: Finish creating model!\n"
          ]
        },
        {
          "output_type": "display_data",
          "data": {
            "application/vnd.jupyter.widget-view+json": {
              "model_id": "0aeea4049b8e4439b276412eb73814cc",
              "version_minor": 0,
              "version_major": 2
            },
            "text/plain": [
              "  0%|          | 0/6000 [00:00<?, ?it/s]"
            ]
          },
          "metadata": {}
        }
      ]
    },
    {
      "cell_type": "code",
      "metadata": {
        "id": "2NYQA_WoMHgX",
        "colab": {
          "base_uri": "https://localhost:8080/",
          "height": 17
        },
        "outputId": "428833f4-b004-4f08-f872-a17faf57ffa6"
      },
      "source": [
        "from google.colab import files\n",
        "files.download( \"output.csv\" )"
      ],
      "execution_count": 22,
      "outputs": [
        {
          "output_type": "display_data",
          "data": {
            "application/javascript": [
              "\n",
              "    async function download(id, filename, size) {\n",
              "      if (!google.colab.kernel.accessAllowed) {\n",
              "        return;\n",
              "      }\n",
              "      const div = document.createElement('div');\n",
              "      const label = document.createElement('label');\n",
              "      label.textContent = `Downloading \"${filename}\": `;\n",
              "      div.appendChild(label);\n",
              "      const progress = document.createElement('progress');\n",
              "      progress.max = size;\n",
              "      div.appendChild(progress);\n",
              "      document.body.appendChild(div);\n",
              "\n",
              "      const buffers = [];\n",
              "      let downloaded = 0;\n",
              "\n",
              "      const channel = await google.colab.kernel.comms.open(id);\n",
              "      // Send a message to notify the kernel that we're ready.\n",
              "      channel.send({})\n",
              "\n",
              "      for await (const message of channel.messages) {\n",
              "        // Send a message to notify the kernel that we're ready.\n",
              "        channel.send({})\n",
              "        if (message.buffers) {\n",
              "          for (const buffer of message.buffers) {\n",
              "            buffers.push(buffer);\n",
              "            downloaded += buffer.byteLength;\n",
              "            progress.value = downloaded;\n",
              "          }\n",
              "        }\n",
              "      }\n",
              "      const blob = new Blob(buffers, {type: 'application/binary'});\n",
              "      const a = document.createElement('a');\n",
              "      a.href = window.URL.createObjectURL(blob);\n",
              "      a.download = filename;\n",
              "      div.appendChild(a);\n",
              "      a.click();\n",
              "      div.remove();\n",
              "    }\n",
              "  "
            ],
            "text/plain": [
              "<IPython.core.display.Javascript object>"
            ]
          },
          "metadata": {}
        },
        {
          "output_type": "display_data",
          "data": {
            "application/javascript": [
              "download(\"download_c7ec0d83-03dc-4722-96da-a157d60db160\", \"output.csv\", 300013)"
            ],
            "text/plain": [
              "<IPython.core.display.Javascript object>"
            ]
          },
          "metadata": {}
        }
      ]
    }
  ]
}